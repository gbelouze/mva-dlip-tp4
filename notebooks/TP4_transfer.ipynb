{
 "cells": [
  {
   "cell_type": "code",
   "execution_count": 1,
   "metadata": {},
   "outputs": [],
   "source": [
    "%load_ext autoreload\n",
    "%autoreload 2"
   ]
  },
  {
   "cell_type": "code",
   "execution_count": 45,
   "metadata": {},
   "outputs": [],
   "source": [
    "import torch as torch\n",
    "import torch.nn as nn\n",
    "import torch.nn.functional as F\n",
    "import torch.optim as optim\n",
    "from torch.utils.data import DataLoader, Subset\n",
    "\n",
    "import torchvision as V\n",
    "import torchvision.transforms as T\n",
    "import torchvision.transforms.functional as TF\n",
    "\n",
    "device = torch.device(\"cuda:0\" if torch.cuda.is_available() else \"cpu\")"
   ]
  },
  {
   "cell_type": "code",
   "execution_count": 3,
   "metadata": {},
   "outputs": [],
   "source": [
    "import numpy as np\n",
    "import pandas as pd\n",
    "import math\n",
    "from sklearn.metrics import confusion_matrix\n",
    "import matplotlib.pyplot as plt"
   ]
  },
  {
   "cell_type": "code",
   "execution_count": 66,
   "metadata": {},
   "outputs": [],
   "source": [
    "import rich\n",
    "from rich import print\n",
    "import tqdm\n",
    "from dataclasses import dataclass, field\n",
    "from typing import Union, Tuple, Optional\n",
    "\n",
    "rich.reconfigure(width=120)"
   ]
  },
  {
   "cell_type": "code",
   "execution_count": 40,
   "metadata": {},
   "outputs": [],
   "source": [
    "import tp4.training as training\n",
    "import tp4.utils as utils\n",
    "import tp4.models as models\n",
    "import tp4.data as data\n",
    "from tp4.data import TinyCIFAR"
   ]
  },
  {
   "cell_type": "markdown",
   "metadata": {
    "id": "wtb5ZO5djGKi",
    "jp-MarkdownHeadingCollapsed": true,
    "tags": []
   },
   "source": [
    "# Small data and deep learning\n",
    "This pratical session proposes to study several techniques to improve training performance in the challenging context where few data and resources are available."
   ]
  },
  {
   "cell_type": "markdown",
   "metadata": {
    "id": "nkEk9hbxjGKk"
   },
   "source": [
    "# Introduction\n",
    "Assume we are in a context where few \"gold\" labeled data are available for training, say $\\mathcal{X}_{\\text{train}}\\triangleq\\{(x_n,y_n)\\}_{n\\leq N_{\\text{train}}}$, where $N_{\\text{train}}$ is small. A large test set $\\mathcal{X}_{\\text{test}}$ is available. A large amount of unlabeled data, $\\mathcal{X}_{\\text{nolabel}}$, is available. We also assume that we have a limited computational budget (e.g., no GPUs).\n",
    "\n",
    "For each question, write a commented *Code* or a complete answer as a *Markdown*. When the objective of a question is to report a CNN accuracy, please use the following format to report it, at the end of the question :\n",
    "\n",
    "\n",
    "| Model | Number of  epochs  | Train accuracy | Test accuracy |\n",
    "|------|------|------|------|\n",
    "|   XXX  | XXX | XXX | XXX |\n",
    "\n",
    "\n",
    "If applicable, please add the field corresponding to the  __Accuracy on Full Data__ as well as a link to the __Reference paper__ you used to report those numbers. (You do not need to train a CNN on the full CIFAR10 dataset.)\n",
    "\n",
    "In your final report, please keep the logs of each training procedure you used. We will only run this jupyter if we have some doubts on your implementation. \n",
    "\n",
    "__The total file sizes should be reasonable (feasible with 2MB only!). You will be asked to hand in the notebook, together with any necessary files required to run it if any.__\n",
    "\n",
    "\n",
    "To run your experiments, you can use the same local installation as for previous TPs, or otherwise https://colab.research.google.com/."
   ]
  },
  {
   "cell_type": "markdown",
   "metadata": {},
   "source": [
    "## Training set creation"
   ]
  },
  {
   "cell_type": "markdown",
   "metadata": {
    "id": "yyz4hH-GjGKk",
    "tags": []
   },
   "source": [
    "### Question 1\n",
    "__Question 1 (2 points) :__ Propose a dataloader that will only use the first 100 samples of the CIFAR-10 training set. \n",
    "\n",
    "*Hint* : You can modify the file located at https://github.com/pytorch/vision/blob/master/torchvision/datasets/cifar.py or use the information from https://pytorch.org/vision/stable/datasets.html"
   ]
  },
  {
   "cell_type": "markdown",
   "metadata": {
    "id": "Sx8Y526AjGKl"
   },
   "source": [
    "This is our dataset $\\mathcal{X}_{\\text{train}}$, it will be used until the end of this project. The remaining samples correspond to $\\mathcal{X}_{\\text{nolabel}}$. The testing set $\\mathcal{X}_{\\text{test}}$ corresponds to the whole testing set of CIFAR-10."
   ]
  },
  {
   "cell_type": "code",
   "execution_count": 6,
   "metadata": {
    "id": "SCeaqjCbjGKl"
   },
   "outputs": [],
   "source": [
    "from tp4.data import TinyCIFAR\n",
    "from tp4.data import transforms\n",
    "\n",
    "def X(mode=\"train\", transform=\"minimal\", size=224, length=None):\n",
    "    transform = transforms[transform]\n",
    "    resize = T.RandomResizedCrop(size) if mode == \"train\" else T.Resize(size)\n",
    "    transform = T.Compose([\n",
    "        resize,\n",
    "        transform\n",
    "    ])\n",
    "    if mode == \"train\" or mode == \"val\":\n",
    "        return  TinyCIFAR(root=\"../data\", download=True, transform=transform)\n",
    "    elif mode == \"test\":\n",
    "        ret = V.datasets.cifar.CIFAR10(root=\"../data\", train=False, download=True, transform=transform)\n",
    "        if length is not None:\n",
    "            return torch.utils.data.Subset(ret, np.random.randint(len(ret), size=length))\n",
    "        return ret\n",
    "    else:\n",
    "        raise ValueError(mode)"
   ]
  },
  {
   "cell_type": "markdown",
   "metadata": {
    "id": "kcFD3xMejGKm"
   },
   "source": [
    "## Testing procedure"
   ]
  },
  {
   "cell_type": "markdown",
   "metadata": {
    "id": "o7ZfGMuRjGKm"
   },
   "source": [
    "### Question 2\n",
    "__Question 2 (1.5 points) :__ Explain why the evaluation of the training procedure is difficult. Propose several solutions.\n",
    "\n",
    "\n",
    "We exhibit several challenges for learning with few examples.\n",
    "\n",
    "#### Overfitting\n",
    "Certainly the main concern is that a model with reasonably many parameters such as *resnet18* overfits the few data samples.\n",
    "- To help against overfitting, we can explore regularisation procedures such as weight dropout\n",
    "- We can also enforce invariance such as *flip* invariance for images.\n",
    "- Data augmentation can also act as a regulariser.\n",
    "\n",
    "#### Generalisation\n",
    "It is challenging for a network to draw good generalisations from very limited examples. Classical techniques include\n",
    "- Data augmentation\n",
    "- Using a pre-trained model, either by considering that the features computed in the middle layers are already good and retraining only the last layer(s), or by using it as a good initial start and fine tuning the whole network\n",
    "\n",
    "#### Imbalance\n",
    "Unfortunately an additional challenge arises here : classes are not uniformly represented in the training set. This is not specific to small data sets, but is particulrlay hard to tackle when few examples are present in the first place (there are only 4 examples of *ships*!).\n",
    "We tackled this issue by presenting data samples proportionnaly to their scarcity. However, we observed in the trained networks that there remains imbalance in the predictions, skewed towards classes that are more present in the training set (presumably because the network is able to generalize those well, while it overfits scarcely represented classes)."
   ]
  },
  {
   "cell_type": "code",
   "execution_count": 7,
   "metadata": {},
   "outputs": [
    {
     "data": {
      "text/html": [
       "<div>\n",
       "<style scoped>\n",
       "    .dataframe tbody tr th:only-of-type {\n",
       "        vertical-align: middle;\n",
       "    }\n",
       "\n",
       "    .dataframe tbody tr th {\n",
       "        vertical-align: top;\n",
       "    }\n",
       "\n",
       "    .dataframe thead th {\n",
       "        text-align: right;\n",
       "    }\n",
       "</style>\n",
       "<table border=\"1\" class=\"dataframe\">\n",
       "  <thead>\n",
       "    <tr style=\"text-align: right;\">\n",
       "      <th></th>\n",
       "      <th>frequency</th>\n",
       "    </tr>\n",
       "  </thead>\n",
       "  <tbody>\n",
       "    <tr>\n",
       "      <th>automobile</th>\n",
       "      <td>0.16</td>\n",
       "    </tr>\n",
       "    <tr>\n",
       "      <th>bird</th>\n",
       "      <td>0.13</td>\n",
       "    </tr>\n",
       "    <tr>\n",
       "      <th>cat</th>\n",
       "      <td>0.13</td>\n",
       "    </tr>\n",
       "    <tr>\n",
       "      <th>truck</th>\n",
       "      <td>0.12</td>\n",
       "    </tr>\n",
       "    <tr>\n",
       "      <th>deer</th>\n",
       "      <td>0.11</td>\n",
       "    </tr>\n",
       "    <tr>\n",
       "      <th>horse</th>\n",
       "      <td>0.11</td>\n",
       "    </tr>\n",
       "    <tr>\n",
       "      <th>frog</th>\n",
       "      <td>0.07</td>\n",
       "    </tr>\n",
       "    <tr>\n",
       "      <th>dog</th>\n",
       "      <td>0.07</td>\n",
       "    </tr>\n",
       "    <tr>\n",
       "      <th>airplane</th>\n",
       "      <td>0.06</td>\n",
       "    </tr>\n",
       "    <tr>\n",
       "      <th>ship</th>\n",
       "      <td>0.04</td>\n",
       "    </tr>\n",
       "  </tbody>\n",
       "</table>\n",
       "</div>"
      ],
      "text/plain": [
       "            frequency\n",
       "automobile       0.16\n",
       "bird             0.13\n",
       "cat              0.13\n",
       "truck            0.12\n",
       "deer             0.11\n",
       "horse            0.11\n",
       "frog             0.07\n",
       "dog              0.07\n",
       "airplane         0.06\n",
       "ship             0.04"
      ]
     },
     "execution_count": 7,
     "metadata": {},
     "output_type": "execute_result"
    }
   ],
   "source": [
    "_X = data.TinyCIFAR(root=\"../data\")\n",
    "counts = pd.Series([y for _, y in _X]).value_counts() / len(_X)\n",
    "counts = pd.DataFrame(counts.values, index=np.array(_X.classes)[counts.index], columns=[\"frequency\"])\n",
    "counts"
   ]
  },
  {
   "cell_type": "markdown",
   "metadata": {},
   "source": [
    "\n",
    "#### Evaluation\n",
    "The classical train/val separation becomes dubious in our context: the training set will be even more limited and the validation set will be a poor approximation of the actual test. This is a very concerning issue, our best solution is to mitigate variance with *K* fold cross validation, but it is not ideal either, and multiplies computation time."
   ]
  },
  {
   "cell_type": "markdown",
   "metadata": {
    "id": "b8yeRD7CjGKm"
   },
   "source": [
    "# Raw approach: the baseline"
   ]
  },
  {
   "cell_type": "markdown",
   "metadata": {
    "id": "4dgKvuS0jGKm"
   },
   "source": [
    "In this section, the goal is to train a CNN on $\\mathcal{X}_{\\text{train}}$ and compare its performance with reported numbers from the litterature. You will have to re-use and/or design a standard classification pipeline. You should optimize your pipeline to obtain the best performances (image size, data augmentation by flip, ...).\n",
    "\n",
    "The key ingredients for training a CNN are the batch size, as well as the learning rate schedule, i.e. how to decrease the learning rate as a function of the number of epochs. A possible schedule is to start the learning rate at 0.1 and decreasing it every 30 epochs by 10. In case of divergence, reduce the learning rate. A potential batch size could be 10, yet this can be cross-validated.\n",
    "\n",
    "You can get some baselines accuracies in this paper : http://openaccess.thecvf.com/content_cvpr_2018/papers/Keshari_Learning_Structure_and_CVPR_2018_paper.pdf. Obviously, it is a different context for those researchers who had access to GPUs."
   ]
  },
  {
   "cell_type": "markdown",
   "metadata": {
    "id": "pJpkBpyWjGKn"
   },
   "source": [
    "## ResNet architectures"
   ]
  },
  {
   "cell_type": "markdown",
   "metadata": {},
   "source": [
    "### Answer 3"
   ]
  },
  {
   "cell_type": "markdown",
   "metadata": {
    "id": "z22FjUNYjGKn"
   },
   "source": [
    "__Question 3 (4 points) :__ Write a classification pipeline for $\\mathcal{X}_{\\text{train}}$, train from scratch and evaluate a *ResNet-18* architecture specific to CIFAR10 (details about the ResNet-18 model, originally designed for the ImageNet dataset, can be found here: https://arxiv.org/abs/1512.03385). Please report the accuracy obtained on the whole dataset as well as the reference paper/GitHub link.\n",
    "\n",
    "*Hint:* You can re-use the following code: https://github.com/kuangliu/pytorch-cifar. During a training of 10 epochs, a batch size of 10 and a learning rate of 0.01, one obtains 40% accuracy on $\\mathcal{X}_{\\text{train}}$ (\\~2 minutes) and 20% accuracy on $\\mathcal{X}_{\\text{test}}$ (\\~5 minutes)."
   ]
  },
  {
   "cell_type": "markdown",
   "metadata": {},
   "source": [
    "**Answer 3**\n",
    "The best result for ResNet-18 on the whole CIFAR 10 reported in the litterature is reported [here](https://paperswithcode.com/sota/stochastic-optimization-on-cifar-10-resnet-18) with [this associated paper](https://arxiv.org/abs/1907.08610), reaching an accuracy of 95.27%\n",
    "\n",
    "| **Model**              | **Number of epochs** | **Test accuracy** | **Reference paper**                                                                   |\n",
    "|------------------------|----------------------|-------------------|---------------------------------------------------------------------------------------|\n",
    "| ResNet-18 / Look-ahead | 200                  | 95.27%            | [Lookahead Optimizer: k steps forward, 1 step back](https://arxiv.org/abs/1907.08610) |"
   ]
  },
  {
   "cell_type": "markdown",
   "metadata": {},
   "source": [
    "Our pipeline works as follows:\n",
    "- we experiment with different batch sizes (4, 10, 30, 50)\n",
    "- for each of them, we define a good learning rate range with a scheme developed in Homework 1.\n",
    "- we experiment with different schedulers that travel through that learning rate range (Constant learning rate, OneCycleLR, StepLR)\n",
    "- we choose an input image size of 64: this is a good trade-off between computation complexity (the lower the size, the better) and the scale that ResNet expects (resnet works well for ImageNet, with images of size 224).\n",
    "\n",
    "Then we keep the networks with the best training accuracy. This may pick overfitting network but *k*-fold cross validation was too computationnaly intensive (and did not work that well anyway). It turns out that the networks kept that way perform reasonably on the test set.\n",
    "\n",
    "_Results_:\n",
    "\n",
    "| Scheduler | Learning rate range            | Batch size | Train accuracy | Test accuracy |\n",
    "|-----------|--------------------------------|------------|----------------|---------------|\n",
    "| Step LR   | $[10^{-4}, \\; 2\\cdot 10^{-3}]$ | 10         | 87%            | 24.4%         |\n",
    "| OneCycle  | $[10^{-4}, \\; 2\\cdot 10^{-3}]$ | 10         | 86%            | 24.6%         |\n",
    "| OneCycle  | $[10^{-4}, \\; 2\\cdot 10^{-3}]$ | 4          | 83%            | 24.2%         |"
   ]
  },
  {
   "cell_type": "markdown",
   "metadata": {},
   "source": [
    "*For clarity, and brievity, we only report the training for the best performing set of hyperparameters*"
   ]
  },
  {
   "cell_type": "code",
   "execution_count": 8,
   "metadata": {},
   "outputs": [],
   "source": [
    "batch_size_to_lr = {\n",
    "    4: (0.0001, 0.01),\n",
    "    10: (0.0002, 0.004),\n",
    "    30: (0.001, 0.01),\n",
    "    50: (0.0005, 0.007)\n",
    "}"
   ]
  },
  {
   "cell_type": "code",
   "execution_count": 9,
   "metadata": {},
   "outputs": [
    {
     "name": "stdout",
     "output_type": "stream",
     "text": [
      "Files already downloaded and verified\n",
      "Files already downloaded and verified\n"
     ]
    },
    {
     "data": {
      "text/html": [
       "<pre style=\"white-space:pre;overflow-x:auto;line-height:normal;font-family:Menlo,'DejaVu Sans Mono',consolas,'Courier New',monospace\">Epoch <span style=\"color: #008080; text-decoration-color: #008080; font-weight: bold\">01</span>/<span style=\"color: #008080; text-decoration-color: #008080; font-weight: bold\">50</span> | Average loss <span style=\"color: #008080; text-decoration-color: #008080; font-weight: bold\">2.37</span> | Accuracy <span style=\"color: #008080; text-decoration-color: #008080; font-weight: bold\">18.0</span>% | lr <span style=\"color: #008080; text-decoration-color: #008080; font-weight: bold\">4.0e-03</span> | Test loss <span style=\"color: #008080; text-decoration-color: #008080; font-weight: bold\">2.33</span> | Test accuracy <span style=\"color: #008080; text-decoration-color: #008080; font-weight: bold\">13.5</span>%\n",
       "</pre>\n"
      ],
      "text/plain": [
       "Epoch \u001b[1;36m01\u001b[0m/\u001b[1;36m50\u001b[0m | Average loss \u001b[1;36m2.37\u001b[0m | Accuracy \u001b[1;36m18.0\u001b[0m% | lr \u001b[1;36m4.0e-03\u001b[0m | Test loss \u001b[1;36m2.33\u001b[0m | Test accuracy \u001b[1;36m13.5\u001b[0m%\n"
      ]
     },
     "metadata": {},
     "output_type": "display_data"
    },
    {
     "data": {
      "text/html": [
       "<pre style=\"white-space:pre;overflow-x:auto;line-height:normal;font-family:Menlo,'DejaVu Sans Mono',consolas,'Courier New',monospace\">Epoch <span style=\"color: #008080; text-decoration-color: #008080; font-weight: bold\">04</span>/<span style=\"color: #008080; text-decoration-color: #008080; font-weight: bold\">50</span> | Average loss <span style=\"color: #008080; text-decoration-color: #008080; font-weight: bold\">2.30</span> | Accuracy <span style=\"color: #008080; text-decoration-color: #008080; font-weight: bold\">28.0</span>% | lr <span style=\"color: #008080; text-decoration-color: #008080; font-weight: bold\">4.0e-03</span> | Test loss <span style=\"color: #008080; text-decoration-color: #008080; font-weight: bold\">5.16</span> | Test accuracy <span style=\"color: #008080; text-decoration-color: #008080; font-weight: bold\">12.2</span>%\n",
       "</pre>\n"
      ],
      "text/plain": [
       "Epoch \u001b[1;36m04\u001b[0m/\u001b[1;36m50\u001b[0m | Average loss \u001b[1;36m2.30\u001b[0m | Accuracy \u001b[1;36m28.0\u001b[0m% | lr \u001b[1;36m4.0e-03\u001b[0m | Test loss \u001b[1;36m5.16\u001b[0m | Test accuracy \u001b[1;36m12.2\u001b[0m%\n"
      ]
     },
     "metadata": {},
     "output_type": "display_data"
    },
    {
     "data": {
      "text/html": [
       "<pre style=\"white-space:pre;overflow-x:auto;line-height:normal;font-family:Menlo,'DejaVu Sans Mono',consolas,'Courier New',monospace\">Epoch <span style=\"color: #008080; text-decoration-color: #008080; font-weight: bold\">07</span>/<span style=\"color: #008080; text-decoration-color: #008080; font-weight: bold\">50</span> | Average loss <span style=\"color: #008080; text-decoration-color: #008080; font-weight: bold\">1.96</span> | Accuracy <span style=\"color: #008080; text-decoration-color: #008080; font-weight: bold\">32.0</span>% | lr <span style=\"color: #008080; text-decoration-color: #008080; font-weight: bold\">3.0e-03</span> | Test loss <span style=\"color: #008080; text-decoration-color: #008080; font-weight: bold\">2.78</span> | Test accuracy <span style=\"color: #008080; text-decoration-color: #008080; font-weight: bold\">20.5</span>%\n",
       "</pre>\n"
      ],
      "text/plain": [
       "Epoch \u001b[1;36m07\u001b[0m/\u001b[1;36m50\u001b[0m | Average loss \u001b[1;36m1.96\u001b[0m | Accuracy \u001b[1;36m32.0\u001b[0m% | lr \u001b[1;36m3.0e-03\u001b[0m | Test loss \u001b[1;36m2.78\u001b[0m | Test accuracy \u001b[1;36m20.5\u001b[0m%\n"
      ]
     },
     "metadata": {},
     "output_type": "display_data"
    },
    {
     "data": {
      "text/html": [
       "<pre style=\"white-space:pre;overflow-x:auto;line-height:normal;font-family:Menlo,'DejaVu Sans Mono',consolas,'Courier New',monospace\">Epoch <span style=\"color: #008080; text-decoration-color: #008080; font-weight: bold\">10</span>/<span style=\"color: #008080; text-decoration-color: #008080; font-weight: bold\">50</span> | Average loss <span style=\"color: #008080; text-decoration-color: #008080; font-weight: bold\">1.97</span> | Accuracy <span style=\"color: #008080; text-decoration-color: #008080; font-weight: bold\">38.0</span>% | lr <span style=\"color: #008080; text-decoration-color: #008080; font-weight: bold\">2.2e-03</span> | Test loss <span style=\"color: #008080; text-decoration-color: #008080; font-weight: bold\">2.80</span> | Test accuracy <span style=\"color: #008080; text-decoration-color: #008080; font-weight: bold\">17.7</span>%\n",
       "</pre>\n"
      ],
      "text/plain": [
       "Epoch \u001b[1;36m10\u001b[0m/\u001b[1;36m50\u001b[0m | Average loss \u001b[1;36m1.97\u001b[0m | Accuracy \u001b[1;36m38.0\u001b[0m% | lr \u001b[1;36m2.2e-03\u001b[0m | Test loss \u001b[1;36m2.80\u001b[0m | Test accuracy \u001b[1;36m17.7\u001b[0m%\n"
      ]
     },
     "metadata": {},
     "output_type": "display_data"
    },
    {
     "data": {
      "text/html": [
       "<pre style=\"white-space:pre;overflow-x:auto;line-height:normal;font-family:Menlo,'DejaVu Sans Mono',consolas,'Courier New',monospace\">Epoch <span style=\"color: #008080; text-decoration-color: #008080; font-weight: bold\">13</span>/<span style=\"color: #008080; text-decoration-color: #008080; font-weight: bold\">50</span> | Average loss <span style=\"color: #008080; text-decoration-color: #008080; font-weight: bold\">1.56</span> | Accuracy <span style=\"color: #008080; text-decoration-color: #008080; font-weight: bold\">39.0</span>% | lr <span style=\"color: #008080; text-decoration-color: #008080; font-weight: bold\">2.2e-03</span> | Test loss <span style=\"color: #008080; text-decoration-color: #008080; font-weight: bold\">2.62</span> | Test accuracy <span style=\"color: #008080; text-decoration-color: #008080; font-weight: bold\">18.7</span>%\n",
       "</pre>\n"
      ],
      "text/plain": [
       "Epoch \u001b[1;36m13\u001b[0m/\u001b[1;36m50\u001b[0m | Average loss \u001b[1;36m1.56\u001b[0m | Accuracy \u001b[1;36m39.0\u001b[0m% | lr \u001b[1;36m2.2e-03\u001b[0m | Test loss \u001b[1;36m2.62\u001b[0m | Test accuracy \u001b[1;36m18.7\u001b[0m%\n"
      ]
     },
     "metadata": {},
     "output_type": "display_data"
    },
    {
     "data": {
      "text/html": [
       "<pre style=\"white-space:pre;overflow-x:auto;line-height:normal;font-family:Menlo,'DejaVu Sans Mono',consolas,'Courier New',monospace\">Epoch <span style=\"color: #008080; text-decoration-color: #008080; font-weight: bold\">16</span>/<span style=\"color: #008080; text-decoration-color: #008080; font-weight: bold\">50</span> | Average loss <span style=\"color: #008080; text-decoration-color: #008080; font-weight: bold\">1.42</span> | Accuracy <span style=\"color: #008080; text-decoration-color: #008080; font-weight: bold\">58.0</span>% | lr <span style=\"color: #008080; text-decoration-color: #008080; font-weight: bold\">1.6e-03</span> | Test loss <span style=\"color: #008080; text-decoration-color: #008080; font-weight: bold\">2.76</span> | Test accuracy <span style=\"color: #008080; text-decoration-color: #008080; font-weight: bold\">18.3</span>%\n",
       "</pre>\n"
      ],
      "text/plain": [
       "Epoch \u001b[1;36m16\u001b[0m/\u001b[1;36m50\u001b[0m | Average loss \u001b[1;36m1.42\u001b[0m | Accuracy \u001b[1;36m58.0\u001b[0m% | lr \u001b[1;36m1.6e-03\u001b[0m | Test loss \u001b[1;36m2.76\u001b[0m | Test accuracy \u001b[1;36m18.3\u001b[0m%\n"
      ]
     },
     "metadata": {},
     "output_type": "display_data"
    },
    {
     "data": {
      "text/html": [
       "<pre style=\"white-space:pre;overflow-x:auto;line-height:normal;font-family:Menlo,'DejaVu Sans Mono',consolas,'Courier New',monospace\">Epoch <span style=\"color: #008080; text-decoration-color: #008080; font-weight: bold\">19</span>/<span style=\"color: #008080; text-decoration-color: #008080; font-weight: bold\">50</span> | Average loss <span style=\"color: #008080; text-decoration-color: #008080; font-weight: bold\">1.29</span> | Accuracy <span style=\"color: #008080; text-decoration-color: #008080; font-weight: bold\">60.0</span>% | lr <span style=\"color: #008080; text-decoration-color: #008080; font-weight: bold\">1.6e-03</span> | Test loss <span style=\"color: #008080; text-decoration-color: #008080; font-weight: bold\">2.70</span> | Test accuracy <span style=\"color: #008080; text-decoration-color: #008080; font-weight: bold\">20.5</span>%\n",
       "</pre>\n"
      ],
      "text/plain": [
       "Epoch \u001b[1;36m19\u001b[0m/\u001b[1;36m50\u001b[0m | Average loss \u001b[1;36m1.29\u001b[0m | Accuracy \u001b[1;36m60.0\u001b[0m% | lr \u001b[1;36m1.6e-03\u001b[0m | Test loss \u001b[1;36m2.70\u001b[0m | Test accuracy \u001b[1;36m20.5\u001b[0m%\n"
      ]
     },
     "metadata": {},
     "output_type": "display_data"
    },
    {
     "data": {
      "text/html": [
       "<pre style=\"white-space:pre;overflow-x:auto;line-height:normal;font-family:Menlo,'DejaVu Sans Mono',consolas,'Courier New',monospace\">Epoch <span style=\"color: #008080; text-decoration-color: #008080; font-weight: bold\">22</span>/<span style=\"color: #008080; text-decoration-color: #008080; font-weight: bold\">50</span> | Average loss <span style=\"color: #008080; text-decoration-color: #008080; font-weight: bold\">1.16</span> | Accuracy <span style=\"color: #008080; text-decoration-color: #008080; font-weight: bold\">64.0</span>% | lr <span style=\"color: #008080; text-decoration-color: #008080; font-weight: bold\">1.2e-03</span> | Test loss <span style=\"color: #008080; text-decoration-color: #008080; font-weight: bold\">2.68</span> | Test accuracy <span style=\"color: #008080; text-decoration-color: #008080; font-weight: bold\">21.5</span>%\n",
       "</pre>\n"
      ],
      "text/plain": [
       "Epoch \u001b[1;36m22\u001b[0m/\u001b[1;36m50\u001b[0m | Average loss \u001b[1;36m1.16\u001b[0m | Accuracy \u001b[1;36m64.0\u001b[0m% | lr \u001b[1;36m1.2e-03\u001b[0m | Test loss \u001b[1;36m2.68\u001b[0m | Test accuracy \u001b[1;36m21.5\u001b[0m%\n"
      ]
     },
     "metadata": {},
     "output_type": "display_data"
    },
    {
     "data": {
      "text/html": [
       "<pre style=\"white-space:pre;overflow-x:auto;line-height:normal;font-family:Menlo,'DejaVu Sans Mono',consolas,'Courier New',monospace\">Epoch <span style=\"color: #008080; text-decoration-color: #008080; font-weight: bold\">25</span>/<span style=\"color: #008080; text-decoration-color: #008080; font-weight: bold\">50</span> | Average loss <span style=\"color: #008080; text-decoration-color: #008080; font-weight: bold\">1.27</span> | Accuracy <span style=\"color: #008080; text-decoration-color: #008080; font-weight: bold\">55.0</span>% | lr <span style=\"color: #008080; text-decoration-color: #008080; font-weight: bold\">8.9e-04</span> | Test loss <span style=\"color: #008080; text-decoration-color: #008080; font-weight: bold\">2.80</span> | Test accuracy <span style=\"color: #008080; text-decoration-color: #008080; font-weight: bold\">21.0</span>%\n",
       "</pre>\n"
      ],
      "text/plain": [
       "Epoch \u001b[1;36m25\u001b[0m/\u001b[1;36m50\u001b[0m | Average loss \u001b[1;36m1.27\u001b[0m | Accuracy \u001b[1;36m55.0\u001b[0m% | lr \u001b[1;36m8.9e-04\u001b[0m | Test loss \u001b[1;36m2.80\u001b[0m | Test accuracy \u001b[1;36m21.0\u001b[0m%\n"
      ]
     },
     "metadata": {},
     "output_type": "display_data"
    },
    {
     "data": {
      "text/html": [
       "<pre style=\"white-space:pre;overflow-x:auto;line-height:normal;font-family:Menlo,'DejaVu Sans Mono',consolas,'Courier New',monospace\">Epoch <span style=\"color: #008080; text-decoration-color: #008080; font-weight: bold\">28</span>/<span style=\"color: #008080; text-decoration-color: #008080; font-weight: bold\">50</span> | Average loss <span style=\"color: #008080; text-decoration-color: #008080; font-weight: bold\">1.17</span> | Accuracy <span style=\"color: #008080; text-decoration-color: #008080; font-weight: bold\">61.0</span>% | lr <span style=\"color: #008080; text-decoration-color: #008080; font-weight: bold\">8.9e-04</span> | Test loss <span style=\"color: #008080; text-decoration-color: #008080; font-weight: bold\">2.61</span> | Test accuracy <span style=\"color: #008080; text-decoration-color: #008080; font-weight: bold\">25.3</span>%\n",
       "</pre>\n"
      ],
      "text/plain": [
       "Epoch \u001b[1;36m28\u001b[0m/\u001b[1;36m50\u001b[0m | Average loss \u001b[1;36m1.17\u001b[0m | Accuracy \u001b[1;36m61.0\u001b[0m% | lr \u001b[1;36m8.9e-04\u001b[0m | Test loss \u001b[1;36m2.61\u001b[0m | Test accuracy \u001b[1;36m25.3\u001b[0m%\n"
      ]
     },
     "metadata": {},
     "output_type": "display_data"
    },
    {
     "data": {
      "text/html": [
       "<pre style=\"white-space:pre;overflow-x:auto;line-height:normal;font-family:Menlo,'DejaVu Sans Mono',consolas,'Courier New',monospace\">Epoch <span style=\"color: #008080; text-decoration-color: #008080; font-weight: bold\">31</span>/<span style=\"color: #008080; text-decoration-color: #008080; font-weight: bold\">50</span> | Average loss <span style=\"color: #008080; text-decoration-color: #008080; font-weight: bold\">1.08</span> | Accuracy <span style=\"color: #008080; text-decoration-color: #008080; font-weight: bold\">64.0</span>% | lr <span style=\"color: #008080; text-decoration-color: #008080; font-weight: bold\">6.6e-04</span> | Test loss <span style=\"color: #008080; text-decoration-color: #008080; font-weight: bold\">2.65</span> | Test accuracy <span style=\"color: #008080; text-decoration-color: #008080; font-weight: bold\">23.7</span>%\n",
       "</pre>\n"
      ],
      "text/plain": [
       "Epoch \u001b[1;36m31\u001b[0m/\u001b[1;36m50\u001b[0m | Average loss \u001b[1;36m1.08\u001b[0m | Accuracy \u001b[1;36m64.0\u001b[0m% | lr \u001b[1;36m6.6e-04\u001b[0m | Test loss \u001b[1;36m2.65\u001b[0m | Test accuracy \u001b[1;36m23.7\u001b[0m%\n"
      ]
     },
     "metadata": {},
     "output_type": "display_data"
    },
    {
     "data": {
      "text/html": [
       "<pre style=\"white-space:pre;overflow-x:auto;line-height:normal;font-family:Menlo,'DejaVu Sans Mono',consolas,'Courier New',monospace\">Epoch <span style=\"color: #008080; text-decoration-color: #008080; font-weight: bold\">34</span>/<span style=\"color: #008080; text-decoration-color: #008080; font-weight: bold\">50</span> | Average loss <span style=\"color: #008080; text-decoration-color: #008080; font-weight: bold\">0.90</span> | Accuracy <span style=\"color: #008080; text-decoration-color: #008080; font-weight: bold\">71.0</span>% | lr <span style=\"color: #008080; text-decoration-color: #008080; font-weight: bold\">6.6e-04</span> | Test loss <span style=\"color: #008080; text-decoration-color: #008080; font-weight: bold\">2.64</span> | Test accuracy <span style=\"color: #008080; text-decoration-color: #008080; font-weight: bold\">24.3</span>%\n",
       "</pre>\n"
      ],
      "text/plain": [
       "Epoch \u001b[1;36m34\u001b[0m/\u001b[1;36m50\u001b[0m | Average loss \u001b[1;36m0.90\u001b[0m | Accuracy \u001b[1;36m71.0\u001b[0m% | lr \u001b[1;36m6.6e-04\u001b[0m | Test loss \u001b[1;36m2.64\u001b[0m | Test accuracy \u001b[1;36m24.3\u001b[0m%\n"
      ]
     },
     "metadata": {},
     "output_type": "display_data"
    },
    {
     "data": {
      "text/html": [
       "<pre style=\"white-space:pre;overflow-x:auto;line-height:normal;font-family:Menlo,'DejaVu Sans Mono',consolas,'Courier New',monospace\">Epoch <span style=\"color: #008080; text-decoration-color: #008080; font-weight: bold\">37</span>/<span style=\"color: #008080; text-decoration-color: #008080; font-weight: bold\">50</span> | Average loss <span style=\"color: #008080; text-decoration-color: #008080; font-weight: bold\">0.70</span> | Accuracy <span style=\"color: #008080; text-decoration-color: #008080; font-weight: bold\">79.0</span>% | lr <span style=\"color: #008080; text-decoration-color: #008080; font-weight: bold\">4.9e-04</span> | Test loss <span style=\"color: #008080; text-decoration-color: #008080; font-weight: bold\">2.76</span> | Test accuracy <span style=\"color: #008080; text-decoration-color: #008080; font-weight: bold\">24.8</span>%\n",
       "</pre>\n"
      ],
      "text/plain": [
       "Epoch \u001b[1;36m37\u001b[0m/\u001b[1;36m50\u001b[0m | Average loss \u001b[1;36m0.70\u001b[0m | Accuracy \u001b[1;36m79.0\u001b[0m% | lr \u001b[1;36m4.9e-04\u001b[0m | Test loss \u001b[1;36m2.76\u001b[0m | Test accuracy \u001b[1;36m24.8\u001b[0m%\n"
      ]
     },
     "metadata": {},
     "output_type": "display_data"
    },
    {
     "data": {
      "text/html": [
       "<pre style=\"white-space:pre;overflow-x:auto;line-height:normal;font-family:Menlo,'DejaVu Sans Mono',consolas,'Courier New',monospace\">Epoch <span style=\"color: #008080; text-decoration-color: #008080; font-weight: bold\">40</span>/<span style=\"color: #008080; text-decoration-color: #008080; font-weight: bold\">50</span> | Average loss <span style=\"color: #008080; text-decoration-color: #008080; font-weight: bold\">0.88</span> | Accuracy <span style=\"color: #008080; text-decoration-color: #008080; font-weight: bold\">76.0</span>% | lr <span style=\"color: #008080; text-decoration-color: #008080; font-weight: bold\">3.6e-04</span> | Test loss <span style=\"color: #008080; text-decoration-color: #008080; font-weight: bold\">2.85</span> | Test accuracy <span style=\"color: #008080; text-decoration-color: #008080; font-weight: bold\">24.0</span>%\n",
       "</pre>\n"
      ],
      "text/plain": [
       "Epoch \u001b[1;36m40\u001b[0m/\u001b[1;36m50\u001b[0m | Average loss \u001b[1;36m0.88\u001b[0m | Accuracy \u001b[1;36m76.0\u001b[0m% | lr \u001b[1;36m3.6e-04\u001b[0m | Test loss \u001b[1;36m2.85\u001b[0m | Test accuracy \u001b[1;36m24.0\u001b[0m%\n"
      ]
     },
     "metadata": {},
     "output_type": "display_data"
    },
    {
     "data": {
      "text/html": [
       "<pre style=\"white-space:pre;overflow-x:auto;line-height:normal;font-family:Menlo,'DejaVu Sans Mono',consolas,'Courier New',monospace\">Epoch <span style=\"color: #008080; text-decoration-color: #008080; font-weight: bold\">43</span>/<span style=\"color: #008080; text-decoration-color: #008080; font-weight: bold\">50</span> | Average loss <span style=\"color: #008080; text-decoration-color: #008080; font-weight: bold\">0.92</span> | Accuracy <span style=\"color: #008080; text-decoration-color: #008080; font-weight: bold\">72.0</span>% | lr <span style=\"color: #008080; text-decoration-color: #008080; font-weight: bold\">3.6e-04</span> | Test loss <span style=\"color: #008080; text-decoration-color: #008080; font-weight: bold\">2.79</span> | Test accuracy <span style=\"color: #008080; text-decoration-color: #008080; font-weight: bold\">24.5</span>%\n",
       "</pre>\n"
      ],
      "text/plain": [
       "Epoch \u001b[1;36m43\u001b[0m/\u001b[1;36m50\u001b[0m | Average loss \u001b[1;36m0.92\u001b[0m | Accuracy \u001b[1;36m72.0\u001b[0m% | lr \u001b[1;36m3.6e-04\u001b[0m | Test loss \u001b[1;36m2.79\u001b[0m | Test accuracy \u001b[1;36m24.5\u001b[0m%\n"
      ]
     },
     "metadata": {},
     "output_type": "display_data"
    },
    {
     "data": {
      "text/html": [
       "<pre style=\"white-space:pre;overflow-x:auto;line-height:normal;font-family:Menlo,'DejaVu Sans Mono',consolas,'Courier New',monospace\">Epoch <span style=\"color: #008080; text-decoration-color: #008080; font-weight: bold\">46</span>/<span style=\"color: #008080; text-decoration-color: #008080; font-weight: bold\">50</span> | Average loss <span style=\"color: #008080; text-decoration-color: #008080; font-weight: bold\">0.94</span> | Accuracy <span style=\"color: #008080; text-decoration-color: #008080; font-weight: bold\">69.0</span>% | lr <span style=\"color: #008080; text-decoration-color: #008080; font-weight: bold\">2.7e-04</span> | Test loss <span style=\"color: #008080; text-decoration-color: #008080; font-weight: bold\">2.87</span> | Test accuracy <span style=\"color: #008080; text-decoration-color: #008080; font-weight: bold\">23.8</span>%\n",
       "</pre>\n"
      ],
      "text/plain": [
       "Epoch \u001b[1;36m46\u001b[0m/\u001b[1;36m50\u001b[0m | Average loss \u001b[1;36m0.94\u001b[0m | Accuracy \u001b[1;36m69.0\u001b[0m% | lr \u001b[1;36m2.7e-04\u001b[0m | Test loss \u001b[1;36m2.87\u001b[0m | Test accuracy \u001b[1;36m23.8\u001b[0m%\n"
      ]
     },
     "metadata": {},
     "output_type": "display_data"
    },
    {
     "data": {
      "text/html": [
       "<pre style=\"white-space:pre;overflow-x:auto;line-height:normal;font-family:Menlo,'DejaVu Sans Mono',consolas,'Courier New',monospace\">Epoch <span style=\"color: #008080; text-decoration-color: #008080; font-weight: bold\">49</span>/<span style=\"color: #008080; text-decoration-color: #008080; font-weight: bold\">50</span> | Average loss <span style=\"color: #008080; text-decoration-color: #008080; font-weight: bold\">0.70</span> | Accuracy <span style=\"color: #008080; text-decoration-color: #008080; font-weight: bold\">80.0</span>% | lr <span style=\"color: #008080; text-decoration-color: #008080; font-weight: bold\">2.7e-04</span> | Test loss <span style=\"color: #008080; text-decoration-color: #008080; font-weight: bold\">2.83</span> | Test accuracy <span style=\"color: #008080; text-decoration-color: #008080; font-weight: bold\">24.3</span>%\n",
       "</pre>\n"
      ],
      "text/plain": [
       "Epoch \u001b[1;36m49\u001b[0m/\u001b[1;36m50\u001b[0m | Average loss \u001b[1;36m0.70\u001b[0m | Accuracy \u001b[1;36m80.0\u001b[0m% | lr \u001b[1;36m2.7e-04\u001b[0m | Test loss \u001b[1;36m2.83\u001b[0m | Test accuracy \u001b[1;36m24.3\u001b[0m%\n"
      ]
     },
     "metadata": {},
     "output_type": "display_data"
    },
    {
     "data": {
      "text/html": [
       "<pre style=\"white-space:pre;overflow-x:auto;line-height:normal;font-family:Menlo,'DejaVu Sans Mono',consolas,'Courier New',monospace\">Epoch <span style=\"color: #008080; text-decoration-color: #008080; font-weight: bold\">50</span>/<span style=\"color: #008080; text-decoration-color: #008080; font-weight: bold\">50</span> | Average loss <span style=\"color: #008080; text-decoration-color: #008080; font-weight: bold\">0.92</span> | Accuracy <span style=\"color: #008080; text-decoration-color: #008080; font-weight: bold\">72.0</span>% | lr <span style=\"color: #008080; text-decoration-color: #008080; font-weight: bold\">2.0e-04</span> | Test loss <span style=\"color: #008080; text-decoration-color: #008080; font-weight: bold\">2.85</span> | Test accuracy <span style=\"color: #008080; text-decoration-color: #008080; font-weight: bold\">24.8</span>%\n",
       "</pre>\n"
      ],
      "text/plain": [
       "Epoch \u001b[1;36m50\u001b[0m/\u001b[1;36m50\u001b[0m | Average loss \u001b[1;36m0.92\u001b[0m | Accuracy \u001b[1;36m72.0\u001b[0m% | lr \u001b[1;36m2.0e-04\u001b[0m | Test loss \u001b[1;36m2.85\u001b[0m | Test accuracy \u001b[1;36m24.8\u001b[0m%\n"
      ]
     },
     "metadata": {},
     "output_type": "display_data"
    },
    {
     "data": {
      "image/png": "[encoded data removed]",
      "text/plain": [
       "<Figure size 432x288 with 1 Axes>"
      ]
     },
     "metadata": {
      "needs_background": "light"
     },
     "output_type": "display_data"
    }
   ],
   "source": [
    "baseline = models.ResNet18()\n",
    "\n",
    "loss_hist = training.train_stepLR(\n",
    "    baseline,\n",
    "    X(\"train\", \"minimal\", size=64),\n",
    "    batch_size=10,\n",
    "    lrs=batch_size_to_lr[10],\n",
    "    num_epochs=50,\n",
    "    test_set=X(\"test\", \"minimal\", size=64, length=600))\n",
    "\n",
    "plt.plot(loss_hist)\n",
    "plt.show()"
   ]
  },
  {
   "cell_type": "code",
   "execution_count": 10,
   "metadata": {},
   "outputs": [
    {
     "name": "stdout",
     "output_type": "stream",
     "text": [
      "Files already downloaded and verified\n"
     ]
    },
    {
     "name": "stderr",
     "output_type": "stream",
     "text": [
      "100%|███████████████████████████████████████████████████████████████████████████████████████████████████████████████████████| 400/400 [01:30<00:00,  4.40it/s]\n"
     ]
    },
    {
     "data": {
      "text/html": [
       "<pre style=\"white-space:pre;overflow-x:auto;line-height:normal;font-family:Menlo,'DejaVu Sans Mono',consolas,'Courier New',monospace\">Test loss <span style=\"color: #008080; text-decoration-color: #008080; font-weight: bold\">2.88</span> | Test accuracy  <span style=\"color: #008080; text-decoration-color: #008080; font-weight: bold\">24.4</span>%\n",
       "</pre>\n"
      ],
      "text/plain": [
       "Test loss \u001b[1;36m2.88\u001b[0m | Test accuracy  \u001b[1;36m24.4\u001b[0m%\n"
      ]
     },
     "metadata": {},
     "output_type": "display_data"
    }
   ],
   "source": [
    "test_loss, test_accuracy = training.test(baseline, X(\"test\", \"minimal\", size=64), batch_size=25)\n",
    "print(f\"Test loss {test_loss:.2f} | Test accuracy {test_accuracy * 100: 03.1f}%\")"
   ]
  },
  {
   "cell_type": "markdown",
   "metadata": {
    "id": "JLv78we5jGKo"
   },
   "source": [
    "# Transfer learning"
   ]
  },
  {
   "cell_type": "markdown",
   "metadata": {
    "id": "et0xds0xjGKo"
   },
   "source": [
    "We propose to use pre-trained models on a classification task, in order to improve the results of our setting."
   ]
  },
  {
   "cell_type": "markdown",
   "metadata": {
    "id": "ErqP4xNMjGKo"
   },
   "source": [
    "## ImageNet features"
   ]
  },
  {
   "cell_type": "markdown",
   "metadata": {},
   "source": [
    "### Answer 4"
   ]
  },
  {
   "cell_type": "markdown",
   "metadata": {
    "id": "CyHaYiMCjGKo"
   },
   "source": [
    "Now, we will use a model pre-trained on ImageNet and see how well it performs on CIFAR. A list of ImageNet pre-trained models is available on : https://pytorch.org/vision/stable/models.html\n",
    "\n",
    "__Question 4 (3 points) :__ Pick a model from the list above, adapt it for CIFAR and retrain its final layer (or a block of layers, depending on the resources to which you have access to). Report its accuracy."
   ]
  },
  {
   "cell_type": "markdown",
   "metadata": {},
   "source": [
    "To be able to compare against no pre-training, we pick the same *ResNet18* model. An important detail is that since this model was pre-trained over *224x224* images, we must resize CIFAR10 images to a corresponding size. This does make computations more expensive, but is crucial to obtain good results.\n",
    "\n",
    "We cannot repeat the same hyperparameter validation process as without pretraining, as most set of hyperparameters reach 100% on the training data which is obviously an overfit. Instead we bite the bullet and perform *K*-fold cross validation with $K=5$. To limit the number of hyperparameters to tune, we reuse the best performing hyperparameters without pretraining, that is a batch size of $10$, a learning rate range between $10^{-4}$ and $2\\cdot10^{-3}$, and a StepLR scheduler. We perform cross validation to determine the number of layers to freeze and the number of layers to fine tune. We obtain that we should freeze the last fully connected layer, and *layer4* as well.\n",
    "\n",
    "Finally we train our model on the whole training set with the set of hyperparameters above. This yields an accuracy on the whole CIFAR10 of $53.4$%."
   ]
  },
  {
   "cell_type": "code",
   "execution_count": 11,
   "metadata": {},
   "outputs": [],
   "source": [
    "pretrained = V.models.resnet18(pretrained=True, progress=True)\n",
    "for name, param in pretrained.state_dict().items():\n",
    "    if not any(name.startswith(layer) for layer in (\"layer4\", \"fc\")):\n",
    "        param.requires_grad = False\n",
    "pretrained.fc = nn.Linear(pretrained.fc.in_features, 10)\n",
    "pretrained = pretrained.to(device)"
   ]
  },
  {
   "cell_type": "code",
   "execution_count": 15,
   "metadata": {},
   "outputs": [
    {
     "name": "stdout",
     "output_type": "stream",
     "text": [
      "Files already downloaded and verified\n"
     ]
    },
    {
     "data": {
      "text/html": [
       "<pre style=\"white-space:pre;overflow-x:auto;line-height:normal;font-family:Menlo,'DejaVu Sans Mono',consolas,'Courier New',monospace\">Epoch <span style=\"color: #008080; text-decoration-color: #008080; font-weight: bold\">01</span>/<span style=\"color: #008080; text-decoration-color: #008080; font-weight: bold\">50</span> | Average loss <span style=\"color: #008080; text-decoration-color: #008080; font-weight: bold\">2.30</span> | Accuracy <span style=\"color: #008080; text-decoration-color: #008080; font-weight: bold\">18.0</span>% | lr <span style=\"color: #008080; text-decoration-color: #008080; font-weight: bold\">1.0e-03</span>\n",
       "</pre>\n"
      ],
      "text/plain": [
       "Epoch \u001b[1;36m01\u001b[0m/\u001b[1;36m50\u001b[0m | Average loss \u001b[1;36m2.30\u001b[0m | Accuracy \u001b[1;36m18.0\u001b[0m% | lr \u001b[1;36m1.0e-03\u001b[0m\n"
      ]
     },
     "metadata": {},
     "output_type": "display_data"
    },
    {
     "data": {
      "text/html": [
       "<pre style=\"white-space:pre;overflow-x:auto;line-height:normal;font-family:Menlo,'DejaVu Sans Mono',consolas,'Courier New',monospace\">Epoch <span style=\"color: #008080; text-decoration-color: #008080; font-weight: bold\">04</span>/<span style=\"color: #008080; text-decoration-color: #008080; font-weight: bold\">50</span> | Average loss <span style=\"color: #008080; text-decoration-color: #008080; font-weight: bold\">1.80</span> | Accuracy <span style=\"color: #008080; text-decoration-color: #008080; font-weight: bold\">41.0</span>% | lr <span style=\"color: #008080; text-decoration-color: #008080; font-weight: bold\">1.0e-03</span>\n",
       "</pre>\n"
      ],
      "text/plain": [
       "Epoch \u001b[1;36m04\u001b[0m/\u001b[1;36m50\u001b[0m | Average loss \u001b[1;36m1.80\u001b[0m | Accuracy \u001b[1;36m41.0\u001b[0m% | lr \u001b[1;36m1.0e-03\u001b[0m\n"
      ]
     },
     "metadata": {},
     "output_type": "display_data"
    },
    {
     "data": {
      "text/html": [
       "<pre style=\"white-space:pre;overflow-x:auto;line-height:normal;font-family:Menlo,'DejaVu Sans Mono',consolas,'Courier New',monospace\">Epoch <span style=\"color: #008080; text-decoration-color: #008080; font-weight: bold\">07</span>/<span style=\"color: #008080; text-decoration-color: #008080; font-weight: bold\">50</span> | Average loss <span style=\"color: #008080; text-decoration-color: #008080; font-weight: bold\">1.59</span> | Accuracy <span style=\"color: #008080; text-decoration-color: #008080; font-weight: bold\">50.0</span>% | lr <span style=\"color: #008080; text-decoration-color: #008080; font-weight: bold\">7.9e-04</span>\n",
       "</pre>\n"
      ],
      "text/plain": [
       "Epoch \u001b[1;36m07\u001b[0m/\u001b[1;36m50\u001b[0m | Average loss \u001b[1;36m1.59\u001b[0m | Accuracy \u001b[1;36m50.0\u001b[0m% | lr \u001b[1;36m7.9e-04\u001b[0m\n"
      ]
     },
     "metadata": {},
     "output_type": "display_data"
    },
    {
     "data": {
      "text/html": [
       "<pre style=\"white-space:pre;overflow-x:auto;line-height:normal;font-family:Menlo,'DejaVu Sans Mono',consolas,'Courier New',monospace\">Epoch <span style=\"color: #008080; text-decoration-color: #008080; font-weight: bold\">10</span>/<span style=\"color: #008080; text-decoration-color: #008080; font-weight: bold\">50</span> | Average loss <span style=\"color: #008080; text-decoration-color: #008080; font-weight: bold\">1.29</span> | Accuracy <span style=\"color: #008080; text-decoration-color: #008080; font-weight: bold\">57.0</span>% | lr <span style=\"color: #008080; text-decoration-color: #008080; font-weight: bold\">6.3e-04</span>\n",
       "</pre>\n"
      ],
      "text/plain": [
       "Epoch \u001b[1;36m10\u001b[0m/\u001b[1;36m50\u001b[0m | Average loss \u001b[1;36m1.29\u001b[0m | Accuracy \u001b[1;36m57.0\u001b[0m% | lr \u001b[1;36m6.3e-04\u001b[0m\n"
      ]
     },
     "metadata": {},
     "output_type": "display_data"
    },
    {
     "data": {
      "text/html": [
       "<pre style=\"white-space:pre;overflow-x:auto;line-height:normal;font-family:Menlo,'DejaVu Sans Mono',consolas,'Courier New',monospace\">Epoch <span style=\"color: #008080; text-decoration-color: #008080; font-weight: bold\">13</span>/<span style=\"color: #008080; text-decoration-color: #008080; font-weight: bold\">50</span> | Average loss <span style=\"color: #008080; text-decoration-color: #008080; font-weight: bold\">1.11</span> | Accuracy <span style=\"color: #008080; text-decoration-color: #008080; font-weight: bold\">67.0</span>% | lr <span style=\"color: #008080; text-decoration-color: #008080; font-weight: bold\">6.3e-04</span>\n",
       "</pre>\n"
      ],
      "text/plain": [
       "Epoch \u001b[1;36m13\u001b[0m/\u001b[1;36m50\u001b[0m | Average loss \u001b[1;36m1.11\u001b[0m | Accuracy \u001b[1;36m67.0\u001b[0m% | lr \u001b[1;36m6.3e-04\u001b[0m\n"
      ]
     },
     "metadata": {},
     "output_type": "display_data"
    },
    {
     "data": {
      "text/html": [
       "<pre style=\"white-space:pre;overflow-x:auto;line-height:normal;font-family:Menlo,'DejaVu Sans Mono',consolas,'Courier New',monospace\">Epoch <span style=\"color: #008080; text-decoration-color: #008080; font-weight: bold\">16</span>/<span style=\"color: #008080; text-decoration-color: #008080; font-weight: bold\">50</span> | Average loss <span style=\"color: #008080; text-decoration-color: #008080; font-weight: bold\">0.82</span> | Accuracy <span style=\"color: #008080; text-decoration-color: #008080; font-weight: bold\">80.0</span>% | lr <span style=\"color: #008080; text-decoration-color: #008080; font-weight: bold\">5.0e-04</span>\n",
       "</pre>\n"
      ],
      "text/plain": [
       "Epoch \u001b[1;36m16\u001b[0m/\u001b[1;36m50\u001b[0m | Average loss \u001b[1;36m0.82\u001b[0m | Accuracy \u001b[1;36m80.0\u001b[0m% | lr \u001b[1;36m5.0e-04\u001b[0m\n"
      ]
     },
     "metadata": {},
     "output_type": "display_data"
    },
    {
     "data": {
      "text/html": [
       "<pre style=\"white-space:pre;overflow-x:auto;line-height:normal;font-family:Menlo,'DejaVu Sans Mono',consolas,'Courier New',monospace\">Epoch <span style=\"color: #008080; text-decoration-color: #008080; font-weight: bold\">19</span>/<span style=\"color: #008080; text-decoration-color: #008080; font-weight: bold\">50</span> | Average loss <span style=\"color: #008080; text-decoration-color: #008080; font-weight: bold\">0.95</span> | Accuracy <span style=\"color: #008080; text-decoration-color: #008080; font-weight: bold\">73.0</span>% | lr <span style=\"color: #008080; text-decoration-color: #008080; font-weight: bold\">5.0e-04</span>\n",
       "</pre>\n"
      ],
      "text/plain": [
       "Epoch \u001b[1;36m19\u001b[0m/\u001b[1;36m50\u001b[0m | Average loss \u001b[1;36m0.95\u001b[0m | Accuracy \u001b[1;36m73.0\u001b[0m% | lr \u001b[1;36m5.0e-04\u001b[0m\n"
      ]
     },
     "metadata": {},
     "output_type": "display_data"
    },
    {
     "data": {
      "text/html": [
       "<pre style=\"white-space:pre;overflow-x:auto;line-height:normal;font-family:Menlo,'DejaVu Sans Mono',consolas,'Courier New',monospace\">Epoch <span style=\"color: #008080; text-decoration-color: #008080; font-weight: bold\">22</span>/<span style=\"color: #008080; text-decoration-color: #008080; font-weight: bold\">50</span> | Average loss <span style=\"color: #008080; text-decoration-color: #008080; font-weight: bold\">0.88</span> | Accuracy <span style=\"color: #008080; text-decoration-color: #008080; font-weight: bold\">73.0</span>% | lr <span style=\"color: #008080; text-decoration-color: #008080; font-weight: bold\">4.0e-04</span>\n",
       "</pre>\n"
      ],
      "text/plain": [
       "Epoch \u001b[1;36m22\u001b[0m/\u001b[1;36m50\u001b[0m | Average loss \u001b[1;36m0.88\u001b[0m | Accuracy \u001b[1;36m73.0\u001b[0m% | lr \u001b[1;36m4.0e-04\u001b[0m\n"
      ]
     },
     "metadata": {},
     "output_type": "display_data"
    },
    {
     "data": {
      "text/html": [
       "<pre style=\"white-space:pre;overflow-x:auto;line-height:normal;font-family:Menlo,'DejaVu Sans Mono',consolas,'Courier New',monospace\">Epoch <span style=\"color: #008080; text-decoration-color: #008080; font-weight: bold\">25</span>/<span style=\"color: #008080; text-decoration-color: #008080; font-weight: bold\">50</span> | Average loss <span style=\"color: #008080; text-decoration-color: #008080; font-weight: bold\">0.84</span> | Accuracy <span style=\"color: #008080; text-decoration-color: #008080; font-weight: bold\">71.0</span>% | lr <span style=\"color: #008080; text-decoration-color: #008080; font-weight: bold\">3.2e-04</span>\n",
       "</pre>\n"
      ],
      "text/plain": [
       "Epoch \u001b[1;36m25\u001b[0m/\u001b[1;36m50\u001b[0m | Average loss \u001b[1;36m0.84\u001b[0m | Accuracy \u001b[1;36m71.0\u001b[0m% | lr \u001b[1;36m3.2e-04\u001b[0m\n"
      ]
     },
     "metadata": {},
     "output_type": "display_data"
    },
    {
     "data": {
      "text/html": [
       "<pre style=\"white-space:pre;overflow-x:auto;line-height:normal;font-family:Menlo,'DejaVu Sans Mono',consolas,'Courier New',monospace\">Epoch <span style=\"color: #008080; text-decoration-color: #008080; font-weight: bold\">28</span>/<span style=\"color: #008080; text-decoration-color: #008080; font-weight: bold\">50</span> | Average loss <span style=\"color: #008080; text-decoration-color: #008080; font-weight: bold\">0.79</span> | Accuracy <span style=\"color: #008080; text-decoration-color: #008080; font-weight: bold\">78.0</span>% | lr <span style=\"color: #008080; text-decoration-color: #008080; font-weight: bold\">3.2e-04</span>\n",
       "</pre>\n"
      ],
      "text/plain": [
       "Epoch \u001b[1;36m28\u001b[0m/\u001b[1;36m50\u001b[0m | Average loss \u001b[1;36m0.79\u001b[0m | Accuracy \u001b[1;36m78.0\u001b[0m% | lr \u001b[1;36m3.2e-04\u001b[0m\n"
      ]
     },
     "metadata": {},
     "output_type": "display_data"
    },
    {
     "data": {
      "text/html": [
       "<pre style=\"white-space:pre;overflow-x:auto;line-height:normal;font-family:Menlo,'DejaVu Sans Mono',consolas,'Courier New',monospace\">Epoch <span style=\"color: #008080; text-decoration-color: #008080; font-weight: bold\">31</span>/<span style=\"color: #008080; text-decoration-color: #008080; font-weight: bold\">50</span> | Average loss <span style=\"color: #008080; text-decoration-color: #008080; font-weight: bold\">0.78</span> | Accuracy <span style=\"color: #008080; text-decoration-color: #008080; font-weight: bold\">73.0</span>% | lr <span style=\"color: #008080; text-decoration-color: #008080; font-weight: bold\">2.5e-04</span>\n",
       "</pre>\n"
      ],
      "text/plain": [
       "Epoch \u001b[1;36m31\u001b[0m/\u001b[1;36m50\u001b[0m | Average loss \u001b[1;36m0.78\u001b[0m | Accuracy \u001b[1;36m73.0\u001b[0m% | lr \u001b[1;36m2.5e-04\u001b[0m\n"
      ]
     },
     "metadata": {},
     "output_type": "display_data"
    },
    {
     "data": {
      "text/html": [
       "<pre style=\"white-space:pre;overflow-x:auto;line-height:normal;font-family:Menlo,'DejaVu Sans Mono',consolas,'Courier New',monospace\">Epoch <span style=\"color: #008080; text-decoration-color: #008080; font-weight: bold\">34</span>/<span style=\"color: #008080; text-decoration-color: #008080; font-weight: bold\">50</span> | Average loss <span style=\"color: #008080; text-decoration-color: #008080; font-weight: bold\">0.63</span> | Accuracy <span style=\"color: #008080; text-decoration-color: #008080; font-weight: bold\">87.0</span>% | lr <span style=\"color: #008080; text-decoration-color: #008080; font-weight: bold\">2.5e-04</span>\n",
       "</pre>\n"
      ],
      "text/plain": [
       "Epoch \u001b[1;36m34\u001b[0m/\u001b[1;36m50\u001b[0m | Average loss \u001b[1;36m0.63\u001b[0m | Accuracy \u001b[1;36m87.0\u001b[0m% | lr \u001b[1;36m2.5e-04\u001b[0m\n"
      ]
     },
     "metadata": {},
     "output_type": "display_data"
    },
    {
     "data": {
      "text/html": [
       "<pre style=\"white-space:pre;overflow-x:auto;line-height:normal;font-family:Menlo,'DejaVu Sans Mono',consolas,'Courier New',monospace\">Epoch <span style=\"color: #008080; text-decoration-color: #008080; font-weight: bold\">37</span>/<span style=\"color: #008080; text-decoration-color: #008080; font-weight: bold\">50</span> | Average loss <span style=\"color: #008080; text-decoration-color: #008080; font-weight: bold\">0.79</span> | Accuracy <span style=\"color: #008080; text-decoration-color: #008080; font-weight: bold\">84.0</span>% | lr <span style=\"color: #008080; text-decoration-color: #008080; font-weight: bold\">2.0e-04</span>\n",
       "</pre>\n"
      ],
      "text/plain": [
       "Epoch \u001b[1;36m37\u001b[0m/\u001b[1;36m50\u001b[0m | Average loss \u001b[1;36m0.79\u001b[0m | Accuracy \u001b[1;36m84.0\u001b[0m% | lr \u001b[1;36m2.0e-04\u001b[0m\n"
      ]
     },
     "metadata": {},
     "output_type": "display_data"
    },
    {
     "data": {
      "text/html": [
       "<pre style=\"white-space:pre;overflow-x:auto;line-height:normal;font-family:Menlo,'DejaVu Sans Mono',consolas,'Courier New',monospace\">Epoch <span style=\"color: #008080; text-decoration-color: #008080; font-weight: bold\">40</span>/<span style=\"color: #008080; text-decoration-color: #008080; font-weight: bold\">50</span> | Average loss <span style=\"color: #008080; text-decoration-color: #008080; font-weight: bold\">0.65</span> | Accuracy <span style=\"color: #008080; text-decoration-color: #008080; font-weight: bold\">85.0</span>% | lr <span style=\"color: #008080; text-decoration-color: #008080; font-weight: bold\">1.6e-04</span>\n",
       "</pre>\n"
      ],
      "text/plain": [
       "Epoch \u001b[1;36m40\u001b[0m/\u001b[1;36m50\u001b[0m | Average loss \u001b[1;36m0.65\u001b[0m | Accuracy \u001b[1;36m85.0\u001b[0m% | lr \u001b[1;36m1.6e-04\u001b[0m\n"
      ]
     },
     "metadata": {},
     "output_type": "display_data"
    },
    {
     "data": {
      "text/html": [
       "<pre style=\"white-space:pre;overflow-x:auto;line-height:normal;font-family:Menlo,'DejaVu Sans Mono',consolas,'Courier New',monospace\">Epoch <span style=\"color: #008080; text-decoration-color: #008080; font-weight: bold\">43</span>/<span style=\"color: #008080; text-decoration-color: #008080; font-weight: bold\">50</span> | Average loss <span style=\"color: #008080; text-decoration-color: #008080; font-weight: bold\">0.59</span> | Accuracy <span style=\"color: #008080; text-decoration-color: #008080; font-weight: bold\">82.0</span>% | lr <span style=\"color: #008080; text-decoration-color: #008080; font-weight: bold\">1.6e-04</span>\n",
       "</pre>\n"
      ],
      "text/plain": [
       "Epoch \u001b[1;36m43\u001b[0m/\u001b[1;36m50\u001b[0m | Average loss \u001b[1;36m0.59\u001b[0m | Accuracy \u001b[1;36m82.0\u001b[0m% | lr \u001b[1;36m1.6e-04\u001b[0m\n"
      ]
     },
     "metadata": {},
     "output_type": "display_data"
    },
    {
     "data": {
      "text/html": [
       "<pre style=\"white-space:pre;overflow-x:auto;line-height:normal;font-family:Menlo,'DejaVu Sans Mono',consolas,'Courier New',monospace\">Epoch <span style=\"color: #008080; text-decoration-color: #008080; font-weight: bold\">46</span>/<span style=\"color: #008080; text-decoration-color: #008080; font-weight: bold\">50</span> | Average loss <span style=\"color: #008080; text-decoration-color: #008080; font-weight: bold\">0.53</span> | Accuracy <span style=\"color: #008080; text-decoration-color: #008080; font-weight: bold\">86.0</span>% | lr <span style=\"color: #008080; text-decoration-color: #008080; font-weight: bold\">1.3e-04</span>\n",
       "</pre>\n"
      ],
      "text/plain": [
       "Epoch \u001b[1;36m46\u001b[0m/\u001b[1;36m50\u001b[0m | Average loss \u001b[1;36m0.53\u001b[0m | Accuracy \u001b[1;36m86.0\u001b[0m% | lr \u001b[1;36m1.3e-04\u001b[0m\n"
      ]
     },
     "metadata": {},
     "output_type": "display_data"
    },
    {
     "data": {
      "text/html": [
       "<pre style=\"white-space:pre;overflow-x:auto;line-height:normal;font-family:Menlo,'DejaVu Sans Mono',consolas,'Courier New',monospace\">Epoch <span style=\"color: #008080; text-decoration-color: #008080; font-weight: bold\">49</span>/<span style=\"color: #008080; text-decoration-color: #008080; font-weight: bold\">50</span> | Average loss <span style=\"color: #008080; text-decoration-color: #008080; font-weight: bold\">0.69</span> | Accuracy <span style=\"color: #008080; text-decoration-color: #008080; font-weight: bold\">81.0</span>% | lr <span style=\"color: #008080; text-decoration-color: #008080; font-weight: bold\">1.3e-04</span>\n",
       "</pre>\n"
      ],
      "text/plain": [
       "Epoch \u001b[1;36m49\u001b[0m/\u001b[1;36m50\u001b[0m | Average loss \u001b[1;36m0.69\u001b[0m | Accuracy \u001b[1;36m81.0\u001b[0m% | lr \u001b[1;36m1.3e-04\u001b[0m\n"
      ]
     },
     "metadata": {},
     "output_type": "display_data"
    },
    {
     "data": {
      "text/html": [
       "<pre style=\"white-space:pre;overflow-x:auto;line-height:normal;font-family:Menlo,'DejaVu Sans Mono',consolas,'Courier New',monospace\">Epoch <span style=\"color: #008080; text-decoration-color: #008080; font-weight: bold\">50</span>/<span style=\"color: #008080; text-decoration-color: #008080; font-weight: bold\">50</span> | Average loss <span style=\"color: #008080; text-decoration-color: #008080; font-weight: bold\">0.64</span> | Accuracy <span style=\"color: #008080; text-decoration-color: #008080; font-weight: bold\">85.0</span>% | lr <span style=\"color: #008080; text-decoration-color: #008080; font-weight: bold\">1.0e-04</span>\n",
       "</pre>\n"
      ],
      "text/plain": [
       "Epoch \u001b[1;36m50\u001b[0m/\u001b[1;36m50\u001b[0m | Average loss \u001b[1;36m0.64\u001b[0m | Accuracy \u001b[1;36m85.0\u001b[0m% | lr \u001b[1;36m1.0e-04\u001b[0m\n"
      ]
     },
     "metadata": {},
     "output_type": "display_data"
    },
    {
     "data": {
      "image/png": "[encoded data removed]",
      "text/plain": [
       "<Figure size 432x288 with 1 Axes>"
      ]
     },
     "metadata": {
      "needs_background": "light"
     },
     "output_type": "display_data"
    }
   ],
   "source": [
    "loss_hist = training.train_stepLR(\n",
    "    pretrained,\n",
    "    X(\"train\", \"minimal\", size=224),\n",
    "    batch_size=10,\n",
    "    lrs=(1e-4, 1e-3),\n",
    "    num_epochs=50,\n",
    "    test_set=None,\n",
    "    parameters=list(pretrained.layer4.parameters()) + list(pretrained.fc.parameters())\n",
    ")\n",
    "plt.plot(loss_hist)\n",
    "plt.show()"
   ]
  },
  {
   "cell_type": "code",
   "execution_count": 17,
   "metadata": {},
   "outputs": [
    {
     "name": "stdout",
     "output_type": "stream",
     "text": [
      "Files already downloaded and verified\n"
     ]
    },
    {
     "name": "stderr",
     "output_type": "stream",
     "text": [
      "100%|█████████████████████████████████████████████████████████████████████████████████████████████████████████████████████| 1000/1000 [11:39<00:00,  1.43it/s]\n"
     ]
    },
    {
     "data": {
      "text/html": [
       "<pre style=\"white-space:pre;overflow-x:auto;line-height:normal;font-family:Menlo,'DejaVu Sans Mono',consolas,'Courier New',monospace\">Test loss <span style=\"color: #008080; text-decoration-color: #008080; font-weight: bold\">1.33</span> | Accuracy : <span style=\"color: #008080; text-decoration-color: #008080; font-weight: bold\">53.4</span>%\n",
       "</pre>\n"
      ],
      "text/plain": [
       "Test loss \u001b[1;36m1.33\u001b[0m | Accuracy : \u001b[1;36m53.4\u001b[0m%\n"
      ]
     },
     "metadata": {},
     "output_type": "display_data"
    }
   ],
   "source": [
    "test_loss, test_accuracy = training.test(pretrained, X(\"test\", \"minimal\", size=224), batch_size=10)\n",
    "print(f\"Test loss {test_loss:04.2f} | Accuracy : {100 * test_accuracy:04.1f}%\")"
   ]
  },
  {
   "cell_type": "markdown",
   "metadata": {
    "id": "-svmb56SjGKp",
    "tags": []
   },
   "source": [
    "# Incorporating priors\n",
    "Geometrical priors are appealing for image classification tasks. \n",
    "A color image $x$ can be seen as a function: $\\mathbb{S}\\rightarrow\\mathbb{R}^3$, where $\\mathbb{S} \\subset \\mathbb{R}^2$ is the image support.\n",
    "Let us consider transformations $\\mathcal{T}$ of possible inputs $x$. For instance, if an image had infinite support, a translation $\\mathcal{T}_a$ of an image $x$ by a shift $a$ would lead to a new infinite-support image $\\mathcal{T}_a(x)$, described at each pixel $u$ by :\n",
    "\n",
    "$$\\forall u, \\mathcal{T}_a(x)(u)=x(u-a)\\,.$$"
   ]
  },
  {
   "cell_type": "markdown",
   "metadata": {},
   "source": [
    "#### Answer 5"
   ]
  },
  {
   "cell_type": "markdown",
   "metadata": {},
   "source": [
    "\n",
    "__Question 5 (1.5 points) :__ Explain the issues when dealing with translations, rotations, scaling effects, color changes on $32\\times32$ images. Propose several ideas to tackle them."
   ]
  },
  {
   "cell_type": "markdown",
   "metadata": {
    "id": "9YJCU9PgjGKp"
   },
   "source": [
    "There are several issues, that all more or less stem from the fact that removing information from 32x32 pixels can quickly lose the information about the class.\n",
    "\n",
    "1. For rotations of non $\\pi/4$-multiples and non integer translations, how can we compute $\\mathcal{T}_a$ and $\\mathcal{R}_{\\theta}$ ?\n",
    "We of course can interpolate. Different interpolations are possible. The most precise is the Shannon interpolate -- but we do not have to complicate things to such extent, a simple binilear interpolation should be fine (and is much faster to compute)\n",
    "2. Again for rotation and translations, even when interpolating, how can we deal with values out of the convex hull of the image support. A natural idea is to pad with $0$s outside of the support, but this can quickly remove too much information. We thus must restrict the transformations to small angles and small deltas.\n",
    "3. A challenge with color changes is finding adequate invariance. For 32x32 images, a too abrupt colour distortion may remove too much information to retrieve the image class.\n",
    "\n",
    "More generally, the way that we deal with the above mentioned issues is by projecting the images onto larger sizes (we chose 64x64), and limiting ourselves to small transformations."
   ]
  },
  {
   "cell_type": "markdown",
   "metadata": {
    "id": "CxMnR6QNjGKp"
   },
   "source": [
    "## Data augmentations"
   ]
  },
  {
   "cell_type": "markdown",
   "metadata": {},
   "source": [
    "#### Answer 6"
   ]
  },
  {
   "cell_type": "markdown",
   "metadata": {
    "id": "vvohBWdmjGKp"
   },
   "source": [
    "__Question 6 (3 points) :__ Propose a set of geometric transformations beyond translation, and incorporate them in your training pipeline. Train the model of the __Question 3__ with them and report the accuracies.\n",
    "You can use tools from https://pytorch.org/vision/stable/transforms.html "
   ]
  },
  {
   "cell_type": "markdown",
   "metadata": {
    "id": "PXA1-KP2jGKp",
    "tags": []
   },
   "source": [
    "- We can go a bit further than translations and add affine transformations, again with small coefficients. \n",
    "- As mentioned earlier, we can add small rotations.\n",
    "- The network should be invariant to horizontal symmetry : we can add \"flipped\" images\n",
    "- Usually, colour information is quite redundant for humans to classify an image (gray is enough, fewer levels is enough, etc). Thus we should make the network robust to aggressive colour changes\n",
    "    - Increase the constrast\n",
    "    - Decrease the constrast\n",
    "    - Small noise\n",
    "    - Other thousands transformations that pytorch conveniently provide\n",
    "   \n",
    "The colour augmentation reflect not so much an invariance that we want, but rather provides regularisation."
   ]
  },
  {
   "cell_type": "code",
   "execution_count": 41,
   "metadata": {},
   "outputs": [
    {
     "name": "stdout",
     "output_type": "stream",
     "text": [
      "Files already downloaded and verified\n",
      "Files already downloaded and verified\n"
     ]
    },
    {
     "data": {
      "text/html": [
       "<pre style=\"white-space:pre;overflow-x:auto;line-height:normal;font-family:Menlo,'DejaVu Sans Mono',consolas,'Courier New',monospace\">Epoch <span style=\"color: #008080; text-decoration-color: #008080; font-weight: bold\">01</span>/<span style=\"color: #008080; text-decoration-color: #008080; font-weight: bold\">50</span> | Average loss <span style=\"color: #008080; text-decoration-color: #008080; font-weight: bold\">2.46</span> | Accuracy <span style=\"color: #008080; text-decoration-color: #008080; font-weight: bold\">10.0</span>% | lr <span style=\"color: #008080; text-decoration-color: #008080; font-weight: bold\">4.0e-03</span> | Test loss <span style=\"color: #008080; text-decoration-color: #008080; font-weight: bold\">2.30</span> | Test accuracy <span style=\"color: #008080; text-decoration-color: #008080; font-weight: bold\">12.8</span>%\n",
       "</pre>\n"
      ],
      "text/plain": [
       "Epoch \u001b[1;36m01\u001b[0m/\u001b[1;36m50\u001b[0m | Average loss \u001b[1;36m2.46\u001b[0m | Accuracy \u001b[1;36m10.0\u001b[0m% | lr \u001b[1;36m4.0e-03\u001b[0m | Test loss \u001b[1;36m2.30\u001b[0m | Test accuracy \u001b[1;36m12.8\u001b[0m%\n"
      ]
     },
     "metadata": {},
     "output_type": "display_data"
    },
    {
     "data": {
      "text/html": [
       "<pre style=\"white-space:pre;overflow-x:auto;line-height:normal;font-family:Menlo,'DejaVu Sans Mono',consolas,'Courier New',monospace\">Epoch <span style=\"color: #008080; text-decoration-color: #008080; font-weight: bold\">04</span>/<span style=\"color: #008080; text-decoration-color: #008080; font-weight: bold\">50</span> | Average loss <span style=\"color: #008080; text-decoration-color: #008080; font-weight: bold\">2.51</span> | Accuracy <span style=\"color: #008080; text-decoration-color: #008080; font-weight: bold\">18.0</span>% | lr <span style=\"color: #008080; text-decoration-color: #008080; font-weight: bold\">4.0e-03</span> | Test loss <span style=\"color: #008080; text-decoration-color: #008080; font-weight: bold\">3.04</span> | Test accuracy <span style=\"color: #008080; text-decoration-color: #008080; font-weight: bold\">17.5</span>%\n",
       "</pre>\n"
      ],
      "text/plain": [
       "Epoch \u001b[1;36m04\u001b[0m/\u001b[1;36m50\u001b[0m | Average loss \u001b[1;36m2.51\u001b[0m | Accuracy \u001b[1;36m18.0\u001b[0m% | lr \u001b[1;36m4.0e-03\u001b[0m | Test loss \u001b[1;36m3.04\u001b[0m | Test accuracy \u001b[1;36m17.5\u001b[0m%\n"
      ]
     },
     "metadata": {},
     "output_type": "display_data"
    },
    {
     "data": {
      "text/html": [
       "<pre style=\"white-space:pre;overflow-x:auto;line-height:normal;font-family:Menlo,'DejaVu Sans Mono',consolas,'Courier New',monospace\">Epoch <span style=\"color: #008080; text-decoration-color: #008080; font-weight: bold\">07</span>/<span style=\"color: #008080; text-decoration-color: #008080; font-weight: bold\">50</span> | Average loss <span style=\"color: #008080; text-decoration-color: #008080; font-weight: bold\">2.33</span> | Accuracy <span style=\"color: #008080; text-decoration-color: #008080; font-weight: bold\">24.0</span>% | lr <span style=\"color: #008080; text-decoration-color: #008080; font-weight: bold\">3.0e-03</span> | Test loss <span style=\"color: #008080; text-decoration-color: #008080; font-weight: bold\">2.48</span> | Test accuracy <span style=\"color: #008080; text-decoration-color: #008080; font-weight: bold\">15.8</span>%\n",
       "</pre>\n"
      ],
      "text/plain": [
       "Epoch \u001b[1;36m07\u001b[0m/\u001b[1;36m50\u001b[0m | Average loss \u001b[1;36m2.33\u001b[0m | Accuracy \u001b[1;36m24.0\u001b[0m% | lr \u001b[1;36m3.0e-03\u001b[0m | Test loss \u001b[1;36m2.48\u001b[0m | Test accuracy \u001b[1;36m15.8\u001b[0m%\n"
      ]
     },
     "metadata": {},
     "output_type": "display_data"
    },
    {
     "data": {
      "text/html": [
       "<pre style=\"white-space:pre;overflow-x:auto;line-height:normal;font-family:Menlo,'DejaVu Sans Mono',consolas,'Courier New',monospace\">Epoch <span style=\"color: #008080; text-decoration-color: #008080; font-weight: bold\">10</span>/<span style=\"color: #008080; text-decoration-color: #008080; font-weight: bold\">50</span> | Average loss <span style=\"color: #008080; text-decoration-color: #008080; font-weight: bold\">2.32</span> | Accuracy <span style=\"color: #008080; text-decoration-color: #008080; font-weight: bold\">26.0</span>% | lr <span style=\"color: #008080; text-decoration-color: #008080; font-weight: bold\">2.2e-03</span> | Test loss <span style=\"color: #008080; text-decoration-color: #008080; font-weight: bold\">2.38</span> | Test accuracy <span style=\"color: #008080; text-decoration-color: #008080; font-weight: bold\">18.3</span>%\n",
       "</pre>\n"
      ],
      "text/plain": [
       "Epoch \u001b[1;36m10\u001b[0m/\u001b[1;36m50\u001b[0m | Average loss \u001b[1;36m2.32\u001b[0m | Accuracy \u001b[1;36m26.0\u001b[0m% | lr \u001b[1;36m2.2e-03\u001b[0m | Test loss \u001b[1;36m2.38\u001b[0m | Test accuracy \u001b[1;36m18.3\u001b[0m%\n"
      ]
     },
     "metadata": {},
     "output_type": "display_data"
    },
    {
     "data": {
      "text/html": [
       "<pre style=\"white-space:pre;overflow-x:auto;line-height:normal;font-family:Menlo,'DejaVu Sans Mono',consolas,'Courier New',monospace\">Epoch <span style=\"color: #008080; text-decoration-color: #008080; font-weight: bold\">13</span>/<span style=\"color: #008080; text-decoration-color: #008080; font-weight: bold\">50</span> | Average loss <span style=\"color: #008080; text-decoration-color: #008080; font-weight: bold\">2.03</span> | Accuracy <span style=\"color: #008080; text-decoration-color: #008080; font-weight: bold\">28.0</span>% | lr <span style=\"color: #008080; text-decoration-color: #008080; font-weight: bold\">2.2e-03</span> | Test loss <span style=\"color: #008080; text-decoration-color: #008080; font-weight: bold\">2.65</span> | Test accuracy <span style=\"color: #008080; text-decoration-color: #008080; font-weight: bold\">20.5</span>%\n",
       "</pre>\n"
      ],
      "text/plain": [
       "Epoch \u001b[1;36m13\u001b[0m/\u001b[1;36m50\u001b[0m | Average loss \u001b[1;36m2.03\u001b[0m | Accuracy \u001b[1;36m28.0\u001b[0m% | lr \u001b[1;36m2.2e-03\u001b[0m | Test loss \u001b[1;36m2.65\u001b[0m | Test accuracy \u001b[1;36m20.5\u001b[0m%\n"
      ]
     },
     "metadata": {},
     "output_type": "display_data"
    },
    {
     "data": {
      "text/html": [
       "<pre style=\"white-space:pre;overflow-x:auto;line-height:normal;font-family:Menlo,'DejaVu Sans Mono',consolas,'Courier New',monospace\">Epoch <span style=\"color: #008080; text-decoration-color: #008080; font-weight: bold\">16</span>/<span style=\"color: #008080; text-decoration-color: #008080; font-weight: bold\">50</span> | Average loss <span style=\"color: #008080; text-decoration-color: #008080; font-weight: bold\">1.83</span> | Accuracy <span style=\"color: #008080; text-decoration-color: #008080; font-weight: bold\">34.0</span>% | lr <span style=\"color: #008080; text-decoration-color: #008080; font-weight: bold\">1.6e-03</span> | Test loss <span style=\"color: #008080; text-decoration-color: #008080; font-weight: bold\">2.32</span> | Test accuracy <span style=\"color: #008080; text-decoration-color: #008080; font-weight: bold\">19.5</span>%\n",
       "</pre>\n"
      ],
      "text/plain": [
       "Epoch \u001b[1;36m16\u001b[0m/\u001b[1;36m50\u001b[0m | Average loss \u001b[1;36m1.83\u001b[0m | Accuracy \u001b[1;36m34.0\u001b[0m% | lr \u001b[1;36m1.6e-03\u001b[0m | Test loss \u001b[1;36m2.32\u001b[0m | Test accuracy \u001b[1;36m19.5\u001b[0m%\n"
      ]
     },
     "metadata": {},
     "output_type": "display_data"
    },
    {
     "data": {
      "text/html": [
       "<pre style=\"white-space:pre;overflow-x:auto;line-height:normal;font-family:Menlo,'DejaVu Sans Mono',consolas,'Courier New',monospace\">Epoch <span style=\"color: #008080; text-decoration-color: #008080; font-weight: bold\">19</span>/<span style=\"color: #008080; text-decoration-color: #008080; font-weight: bold\">50</span> | Average loss <span style=\"color: #008080; text-decoration-color: #008080; font-weight: bold\">1.77</span> | Accuracy <span style=\"color: #008080; text-decoration-color: #008080; font-weight: bold\">36.0</span>% | lr <span style=\"color: #008080; text-decoration-color: #008080; font-weight: bold\">1.6e-03</span> | Test loss <span style=\"color: #008080; text-decoration-color: #008080; font-weight: bold\">2.28</span> | Test accuracy <span style=\"color: #008080; text-decoration-color: #008080; font-weight: bold\">22.2</span>%\n",
       "</pre>\n"
      ],
      "text/plain": [
       "Epoch \u001b[1;36m19\u001b[0m/\u001b[1;36m50\u001b[0m | Average loss \u001b[1;36m1.77\u001b[0m | Accuracy \u001b[1;36m36.0\u001b[0m% | lr \u001b[1;36m1.6e-03\u001b[0m | Test loss \u001b[1;36m2.28\u001b[0m | Test accuracy \u001b[1;36m22.2\u001b[0m%\n"
      ]
     },
     "metadata": {},
     "output_type": "display_data"
    },
    {
     "data": {
      "text/html": [
       "<pre style=\"white-space:pre;overflow-x:auto;line-height:normal;font-family:Menlo,'DejaVu Sans Mono',consolas,'Courier New',monospace\">Epoch <span style=\"color: #008080; text-decoration-color: #008080; font-weight: bold\">22</span>/<span style=\"color: #008080; text-decoration-color: #008080; font-weight: bold\">50</span> | Average loss <span style=\"color: #008080; text-decoration-color: #008080; font-weight: bold\">1.86</span> | Accuracy <span style=\"color: #008080; text-decoration-color: #008080; font-weight: bold\">33.0</span>% | lr <span style=\"color: #008080; text-decoration-color: #008080; font-weight: bold\">1.2e-03</span> | Test loss <span style=\"color: #008080; text-decoration-color: #008080; font-weight: bold\">2.19</span> | Test accuracy <span style=\"color: #008080; text-decoration-color: #008080; font-weight: bold\">26.3</span>%\n",
       "</pre>\n"
      ],
      "text/plain": [
       "Epoch \u001b[1;36m22\u001b[0m/\u001b[1;36m50\u001b[0m | Average loss \u001b[1;36m1.86\u001b[0m | Accuracy \u001b[1;36m33.0\u001b[0m% | lr \u001b[1;36m1.2e-03\u001b[0m | Test loss \u001b[1;36m2.19\u001b[0m | Test accuracy \u001b[1;36m26.3\u001b[0m%\n"
      ]
     },
     "metadata": {},
     "output_type": "display_data"
    },
    {
     "data": {
      "text/html": [
       "<pre style=\"white-space:pre;overflow-x:auto;line-height:normal;font-family:Menlo,'DejaVu Sans Mono',consolas,'Courier New',monospace\">Epoch <span style=\"color: #008080; text-decoration-color: #008080; font-weight: bold\">25</span>/<span style=\"color: #008080; text-decoration-color: #008080; font-weight: bold\">50</span> | Average loss <span style=\"color: #008080; text-decoration-color: #008080; font-weight: bold\">1.84</span> | Accuracy <span style=\"color: #008080; text-decoration-color: #008080; font-weight: bold\">33.0</span>% | lr <span style=\"color: #008080; text-decoration-color: #008080; font-weight: bold\">8.9e-04</span> | Test loss <span style=\"color: #008080; text-decoration-color: #008080; font-weight: bold\">2.38</span> | Test accuracy <span style=\"color: #008080; text-decoration-color: #008080; font-weight: bold\">21.2</span>%\n",
       "</pre>\n"
      ],
      "text/plain": [
       "Epoch \u001b[1;36m25\u001b[0m/\u001b[1;36m50\u001b[0m | Average loss \u001b[1;36m1.84\u001b[0m | Accuracy \u001b[1;36m33.0\u001b[0m% | lr \u001b[1;36m8.9e-04\u001b[0m | Test loss \u001b[1;36m2.38\u001b[0m | Test accuracy \u001b[1;36m21.2\u001b[0m%\n"
      ]
     },
     "metadata": {},
     "output_type": "display_data"
    },
    {
     "data": {
      "text/html": [
       "<pre style=\"white-space:pre;overflow-x:auto;line-height:normal;font-family:Menlo,'DejaVu Sans Mono',consolas,'Courier New',monospace\">Epoch <span style=\"color: #008080; text-decoration-color: #008080; font-weight: bold\">28</span>/<span style=\"color: #008080; text-decoration-color: #008080; font-weight: bold\">50</span> | Average loss <span style=\"color: #008080; text-decoration-color: #008080; font-weight: bold\">1.65</span> | Accuracy <span style=\"color: #008080; text-decoration-color: #008080; font-weight: bold\">41.0</span>% | lr <span style=\"color: #008080; text-decoration-color: #008080; font-weight: bold\">8.9e-04</span> | Test loss <span style=\"color: #008080; text-decoration-color: #008080; font-weight: bold\">2.27</span> | Test accuracy <span style=\"color: #008080; text-decoration-color: #008080; font-weight: bold\">23.5</span>%\n",
       "</pre>\n"
      ],
      "text/plain": [
       "Epoch \u001b[1;36m28\u001b[0m/\u001b[1;36m50\u001b[0m | Average loss \u001b[1;36m1.65\u001b[0m | Accuracy \u001b[1;36m41.0\u001b[0m% | lr \u001b[1;36m8.9e-04\u001b[0m | Test loss \u001b[1;36m2.27\u001b[0m | Test accuracy \u001b[1;36m23.5\u001b[0m%\n"
      ]
     },
     "metadata": {},
     "output_type": "display_data"
    },
    {
     "data": {
      "text/html": [
       "<pre style=\"white-space:pre;overflow-x:auto;line-height:normal;font-family:Menlo,'DejaVu Sans Mono',consolas,'Courier New',monospace\">Epoch <span style=\"color: #008080; text-decoration-color: #008080; font-weight: bold\">31</span>/<span style=\"color: #008080; text-decoration-color: #008080; font-weight: bold\">50</span> | Average loss <span style=\"color: #008080; text-decoration-color: #008080; font-weight: bold\">1.68</span> | Accuracy <span style=\"color: #008080; text-decoration-color: #008080; font-weight: bold\">42.0</span>% | lr <span style=\"color: #008080; text-decoration-color: #008080; font-weight: bold\">6.6e-04</span> | Test loss <span style=\"color: #008080; text-decoration-color: #008080; font-weight: bold\">2.21</span> | Test accuracy <span style=\"color: #008080; text-decoration-color: #008080; font-weight: bold\">27.5</span>%\n",
       "</pre>\n"
      ],
      "text/plain": [
       "Epoch \u001b[1;36m31\u001b[0m/\u001b[1;36m50\u001b[0m | Average loss \u001b[1;36m1.68\u001b[0m | Accuracy \u001b[1;36m42.0\u001b[0m% | lr \u001b[1;36m6.6e-04\u001b[0m | Test loss \u001b[1;36m2.21\u001b[0m | Test accuracy \u001b[1;36m27.5\u001b[0m%\n"
      ]
     },
     "metadata": {},
     "output_type": "display_data"
    },
    {
     "data": {
      "text/html": [
       "<pre style=\"white-space:pre;overflow-x:auto;line-height:normal;font-family:Menlo,'DejaVu Sans Mono',consolas,'Courier New',monospace\">Epoch <span style=\"color: #008080; text-decoration-color: #008080; font-weight: bold\">34</span>/<span style=\"color: #008080; text-decoration-color: #008080; font-weight: bold\">50</span> | Average loss <span style=\"color: #008080; text-decoration-color: #008080; font-weight: bold\">1.73</span> | Accuracy <span style=\"color: #008080; text-decoration-color: #008080; font-weight: bold\">38.0</span>% | lr <span style=\"color: #008080; text-decoration-color: #008080; font-weight: bold\">6.6e-04</span> | Test loss <span style=\"color: #008080; text-decoration-color: #008080; font-weight: bold\">2.22</span> | Test accuracy <span style=\"color: #008080; text-decoration-color: #008080; font-weight: bold\">26.5</span>%\n",
       "</pre>\n"
      ],
      "text/plain": [
       "Epoch \u001b[1;36m34\u001b[0m/\u001b[1;36m50\u001b[0m | Average loss \u001b[1;36m1.73\u001b[0m | Accuracy \u001b[1;36m38.0\u001b[0m% | lr \u001b[1;36m6.6e-04\u001b[0m | Test loss \u001b[1;36m2.22\u001b[0m | Test accuracy \u001b[1;36m26.5\u001b[0m%\n"
      ]
     },
     "metadata": {},
     "output_type": "display_data"
    },
    {
     "data": {
      "text/html": [
       "<pre style=\"white-space:pre;overflow-x:auto;line-height:normal;font-family:Menlo,'DejaVu Sans Mono',consolas,'Courier New',monospace\">Epoch <span style=\"color: #008080; text-decoration-color: #008080; font-weight: bold\">37</span>/<span style=\"color: #008080; text-decoration-color: #008080; font-weight: bold\">50</span> | Average loss <span style=\"color: #008080; text-decoration-color: #008080; font-weight: bold\">1.67</span> | Accuracy <span style=\"color: #008080; text-decoration-color: #008080; font-weight: bold\">45.0</span>% | lr <span style=\"color: #008080; text-decoration-color: #008080; font-weight: bold\">4.9e-04</span> | Test loss <span style=\"color: #008080; text-decoration-color: #008080; font-weight: bold\">2.27</span> | Test accuracy <span style=\"color: #008080; text-decoration-color: #008080; font-weight: bold\">25.0</span>%\n",
       "</pre>\n"
      ],
      "text/plain": [
       "Epoch \u001b[1;36m37\u001b[0m/\u001b[1;36m50\u001b[0m | Average loss \u001b[1;36m1.67\u001b[0m | Accuracy \u001b[1;36m45.0\u001b[0m% | lr \u001b[1;36m4.9e-04\u001b[0m | Test loss \u001b[1;36m2.27\u001b[0m | Test accuracy \u001b[1;36m25.0\u001b[0m%\n"
      ]
     },
     "metadata": {},
     "output_type": "display_data"
    },
    {
     "data": {
      "text/html": [
       "<pre style=\"white-space:pre;overflow-x:auto;line-height:normal;font-family:Menlo,'DejaVu Sans Mono',consolas,'Courier New',monospace\">Epoch <span style=\"color: #008080; text-decoration-color: #008080; font-weight: bold\">40</span>/<span style=\"color: #008080; text-decoration-color: #008080; font-weight: bold\">50</span> | Average loss <span style=\"color: #008080; text-decoration-color: #008080; font-weight: bold\">1.59</span> | Accuracy <span style=\"color: #008080; text-decoration-color: #008080; font-weight: bold\">48.0</span>% | lr <span style=\"color: #008080; text-decoration-color: #008080; font-weight: bold\">3.6e-04</span> | Test loss <span style=\"color: #008080; text-decoration-color: #008080; font-weight: bold\">2.23</span> | Test accuracy <span style=\"color: #008080; text-decoration-color: #008080; font-weight: bold\">26.2</span>%\n",
       "</pre>\n"
      ],
      "text/plain": [
       "Epoch \u001b[1;36m40\u001b[0m/\u001b[1;36m50\u001b[0m | Average loss \u001b[1;36m1.59\u001b[0m | Accuracy \u001b[1;36m48.0\u001b[0m% | lr \u001b[1;36m3.6e-04\u001b[0m | Test loss \u001b[1;36m2.23\u001b[0m | Test accuracy \u001b[1;36m26.2\u001b[0m%\n"
      ]
     },
     "metadata": {},
     "output_type": "display_data"
    },
    {
     "data": {
      "text/html": [
       "<pre style=\"white-space:pre;overflow-x:auto;line-height:normal;font-family:Menlo,'DejaVu Sans Mono',consolas,'Courier New',monospace\">Epoch <span style=\"color: #008080; text-decoration-color: #008080; font-weight: bold\">43</span>/<span style=\"color: #008080; text-decoration-color: #008080; font-weight: bold\">50</span> | Average loss <span style=\"color: #008080; text-decoration-color: #008080; font-weight: bold\">1.69</span> | Accuracy <span style=\"color: #008080; text-decoration-color: #008080; font-weight: bold\">43.0</span>% | lr <span style=\"color: #008080; text-decoration-color: #008080; font-weight: bold\">3.6e-04</span> | Test loss <span style=\"color: #008080; text-decoration-color: #008080; font-weight: bold\">2.22</span> | Test accuracy <span style=\"color: #008080; text-decoration-color: #008080; font-weight: bold\">27.7</span>%\n",
       "</pre>\n"
      ],
      "text/plain": [
       "Epoch \u001b[1;36m43\u001b[0m/\u001b[1;36m50\u001b[0m | Average loss \u001b[1;36m1.69\u001b[0m | Accuracy \u001b[1;36m43.0\u001b[0m% | lr \u001b[1;36m3.6e-04\u001b[0m | Test loss \u001b[1;36m2.22\u001b[0m | Test accuracy \u001b[1;36m27.7\u001b[0m%\n"
      ]
     },
     "metadata": {},
     "output_type": "display_data"
    },
    {
     "data": {
      "text/html": [
       "<pre style=\"white-space:pre;overflow-x:auto;line-height:normal;font-family:Menlo,'DejaVu Sans Mono',consolas,'Courier New',monospace\">Epoch <span style=\"color: #008080; text-decoration-color: #008080; font-weight: bold\">46</span>/<span style=\"color: #008080; text-decoration-color: #008080; font-weight: bold\">50</span> | Average loss <span style=\"color: #008080; text-decoration-color: #008080; font-weight: bold\">1.62</span> | Accuracy <span style=\"color: #008080; text-decoration-color: #008080; font-weight: bold\">45.0</span>% | lr <span style=\"color: #008080; text-decoration-color: #008080; font-weight: bold\">2.7e-04</span> | Test loss <span style=\"color: #008080; text-decoration-color: #008080; font-weight: bold\">2.20</span> | Test accuracy <span style=\"color: #008080; text-decoration-color: #008080; font-weight: bold\">27.7</span>%\n",
       "</pre>\n"
      ],
      "text/plain": [
       "Epoch \u001b[1;36m46\u001b[0m/\u001b[1;36m50\u001b[0m | Average loss \u001b[1;36m1.62\u001b[0m | Accuracy \u001b[1;36m45.0\u001b[0m% | lr \u001b[1;36m2.7e-04\u001b[0m | Test loss \u001b[1;36m2.20\u001b[0m | Test accuracy \u001b[1;36m27.7\u001b[0m%\n"
      ]
     },
     "metadata": {},
     "output_type": "display_data"
    },
    {
     "data": {
      "text/html": [
       "<pre style=\"white-space:pre;overflow-x:auto;line-height:normal;font-family:Menlo,'DejaVu Sans Mono',consolas,'Courier New',monospace\">Epoch <span style=\"color: #008080; text-decoration-color: #008080; font-weight: bold\">49</span>/<span style=\"color: #008080; text-decoration-color: #008080; font-weight: bold\">50</span> | Average loss <span style=\"color: #008080; text-decoration-color: #008080; font-weight: bold\">1.38</span> | Accuracy <span style=\"color: #008080; text-decoration-color: #008080; font-weight: bold\">58.0</span>% | lr <span style=\"color: #008080; text-decoration-color: #008080; font-weight: bold\">2.7e-04</span> | Test loss <span style=\"color: #008080; text-decoration-color: #008080; font-weight: bold\">2.20</span> | Test accuracy <span style=\"color: #008080; text-decoration-color: #008080; font-weight: bold\">29.2</span>%\n",
       "</pre>\n"
      ],
      "text/plain": [
       "Epoch \u001b[1;36m49\u001b[0m/\u001b[1;36m50\u001b[0m | Average loss \u001b[1;36m1.38\u001b[0m | Accuracy \u001b[1;36m58.0\u001b[0m% | lr \u001b[1;36m2.7e-04\u001b[0m | Test loss \u001b[1;36m2.20\u001b[0m | Test accuracy \u001b[1;36m29.2\u001b[0m%\n"
      ]
     },
     "metadata": {},
     "output_type": "display_data"
    },
    {
     "data": {
      "text/html": [
       "<pre style=\"white-space:pre;overflow-x:auto;line-height:normal;font-family:Menlo,'DejaVu Sans Mono',consolas,'Courier New',monospace\">Epoch <span style=\"color: #008080; text-decoration-color: #008080; font-weight: bold\">50</span>/<span style=\"color: #008080; text-decoration-color: #008080; font-weight: bold\">50</span> | Average loss <span style=\"color: #008080; text-decoration-color: #008080; font-weight: bold\">1.75</span> | Accuracy <span style=\"color: #008080; text-decoration-color: #008080; font-weight: bold\">42.0</span>% | lr <span style=\"color: #008080; text-decoration-color: #008080; font-weight: bold\">2.0e-04</span> | Test loss <span style=\"color: #008080; text-decoration-color: #008080; font-weight: bold\">2.19</span> | Test accuracy <span style=\"color: #008080; text-decoration-color: #008080; font-weight: bold\">26.3</span>%\n",
       "</pre>\n"
      ],
      "text/plain": [
       "Epoch \u001b[1;36m50\u001b[0m/\u001b[1;36m50\u001b[0m | Average loss \u001b[1;36m1.75\u001b[0m | Accuracy \u001b[1;36m42.0\u001b[0m% | lr \u001b[1;36m2.0e-04\u001b[0m | Test loss \u001b[1;36m2.19\u001b[0m | Test accuracy \u001b[1;36m26.3\u001b[0m%\n"
      ]
     },
     "metadata": {},
     "output_type": "display_data"
    },
    {
     "data": {
      "image/png": "[encoded data removed]",
      "text/plain": [
       "<Figure size 432x288 with 1 Axes>"
      ]
     },
     "metadata": {
      "needs_background": "light"
     },
     "output_type": "display_data"
    }
   ],
   "source": [
    "augmented = models.ResNet18()\n",
    "\n",
    "loss_hist = training.train_stepLR(\n",
    "    augmented,\n",
    "    X(\"train\", \"colour_and_geometric\", size=64),\n",
    "    batch_size=10,\n",
    "    lrs=batch_size_to_lr[10],\n",
    "    num_epochs=50,\n",
    "    test_set=X(\"test\", \"minimal\", size=64, length=600))\n",
    "\n",
    "plt.plot(loss_hist)\n",
    "plt.show()"
   ]
  },
  {
   "cell_type": "code",
   "execution_count": 42,
   "metadata": {},
   "outputs": [
    {
     "name": "stdout",
     "output_type": "stream",
     "text": [
      "Files already downloaded and verified\n"
     ]
    },
    {
     "name": "stderr",
     "output_type": "stream",
     "text": [
      "100%|███████████████████████████████████████████████████████████████████████████████████████████████████████████████████████| 400/400 [01:20<00:00,  4.97it/s]\n"
     ]
    },
    {
     "data": {
      "text/html": [
       "<pre style=\"white-space:pre;overflow-x:auto;line-height:normal;font-family:Menlo,'DejaVu Sans Mono',consolas,'Courier New',monospace\">Test loss <span style=\"color: #008080; text-decoration-color: #008080; font-weight: bold\">2.27</span> | Accuracy : <span style=\"color: #008080; text-decoration-color: #008080; font-weight: bold\">26.2</span>%\n",
       "</pre>\n"
      ],
      "text/plain": [
       "Test loss \u001b[1;36m2.27\u001b[0m | Accuracy : \u001b[1;36m26.2\u001b[0m%\n"
      ]
     },
     "metadata": {},
     "output_type": "display_data"
    }
   ],
   "source": [
    "test_loss, test_accuracy = training.test(augmented, X(\"test\", \"minimal\", size=64), batch_size=25)\n",
    "print(f\"Test loss {test_loss:04.2f} | Accuracy : {100 * test_accuracy:04.1f}%\")"
   ]
  },
  {
   "cell_type": "code",
   "execution_count": 43,
   "metadata": {},
   "outputs": [
    {
     "name": "stdout",
     "output_type": "stream",
     "text": [
      "Files already downloaded and verified\n"
     ]
    },
    {
     "data": {
      "image/png": "[encoded data removed]",
      "text/plain": [
       "<Figure size 720x360 with 3 Axes>"
      ]
     },
     "metadata": {
      "needs_background": "light"
     },
     "output_type": "display_data"
    }
   ],
   "source": [
    "utils.visualize(X(\"train\", \"colour_and_geometric\", size=64))"
   ]
  },
  {
   "cell_type": "markdown",
   "metadata": {
    "id": "1I81WSECjGKq"
   },
   "source": [
    "# Conclusions"
   ]
  },
  {
   "cell_type": "markdown",
   "metadata": {
    "id": "xjQRkH-kjGKq"
   },
   "source": [
    "__Question 7 (5 points) :__ Write a short report explaining the pros and the cons of each method you implemented. 25% of the grade of this project will correspond to this question, thus, it should be done carefully. In particular, please add a plot that will summarize all your numerical results."
   ]
  },
  {
   "cell_type": "markdown",
   "metadata": {},
   "source": [
    "We found that deep training under this setting, with scarce label data, was quite challenging and tricky.\n",
    "\n",
    "One of the most prominent difficulty, across all methods, was to evaluate the method (assuming we did not have the remaining of CIFAR10). The classical train/val separation was here either impossible or required duplicated computational effort through $K$-fold cross validation (which does not entirely solve the issue anyway).\n",
    "\n",
    "**Overfitting**\n",
    "Because of the above mentioned point, it was especially difficult to detect and avoid overfitting.\n",
    "- For the baseline, we did not have many regularisations to use. We only limited training time.\n",
    "- For pretraining, overfitting was a massive issue. The initial network is good enough that the training is able to reach 100% accuracy fast enough. Our approach to regularise was two-fold\n",
    "    - pick a smallish learning rate\n",
    "    - only train a limited number of layers\n",
    "- For the last method, data augmentation is in and of itself a regularisation method. We did not have to take specific additional steps.\n",
    "\n",
    "**Imbalance**\n",
    "The initial dataset is very much non uniform in its class representation. This can severely skew the network towards the most represented classes. We implemented a rebalancing scheme that present samples at a rate inversely proportional to their label frequency in the dataset.\n",
    "- The baseline is very sensitive to this issue. Even with the rebalancing correction, the baseline was skewed towards classes more represented in the training set.\n",
    "- The pretrained model was more able to mitigate this issue, as it can implicitly draw inference from more examples (those on which it was pretrained).\n",
    "\n",
    "**Training time**\n",
    "- The baseline is the most bare approach, and accordingly the fastest -- although our grid-search method to tune hyperparameters was computionnally intensive.\n",
    "- The data augmentation only adds a limited overhead to the training. This was also fast.\n",
    "- Pretraining should not add an overhead besides download time, but here we also had to increase image size to match the input shape of ImageNet. This slowed down the training significantly. However in terms of number of epochs, the pretrained model reached good performance (40%+ accuracy) very fast (5 epochs), while the other methods need 20 epochs to reach their best.\n",
    "\n",
    "\n",
    "**Performance**\n",
    "- The baseline is unsurprinsingly the worst method\n",
    "- The pretrained model is steps ahead of the other methods. Even without tuning parameters very carefully, we reached 40%+ accuracy easily.\n",
    "- The data augmented model only improved the baseline a little bit. However, one must note that augmented models gave much more leeway in hyperparameter choices, while the baseline fell to 20% accuracy for all but a few well chosen set of hyperparameters.\n",
    "- We also tested pretraining with data augmentation. This showed more visible improvements, reaching 58.1% accuracy!"
   ]
  },
  {
   "cell_type": "markdown",
   "metadata": {},
   "source": [
    "| **Model**              | **Batch size** | **Scheduler** | **Learning rate**               | **Number of epochs** | **Test accuracy** |\n",
    "|------------------------|----------------|---------------|---------------------------------|----------------------|-------------------|\n",
    "| Baseline               | 10             | StepLR        | $[10^{-4}$,   $2 \\cdot 10^{-3}]$   | 50                   | 24.4%             |\n",
    "| Augmented              | 10             | StepLR        | $[10^{-4}$,   $2 \\cdot 10^{-3}]$ | 50                   | 26.2              |\n",
    "| Pretrained             | 10             | StepLR        | $[10^{-4}$,   $10^{-3}]$         | 50                   | 53.4%             |\n",
    "| Pretrained + Augmented | 10             | StepLR        | $[10^{-4}$,   $10^{-3}]$         | 50                   | 58.1%             |"
   ]
  },
  {
   "cell_type": "markdown",
   "metadata": {
    "id": "8MIfKUUojGKq"
   },
   "source": [
    "# Weak supervision"
   ]
  },
  {
   "cell_type": "markdown",
   "metadata": {
    "id": "RldQ1hdPjGKq"
   },
   "source": [
    "__Bonus \\[open\\] question (up to 4 points) :__ Pick a weakly supervised method that will potentially use $\\mathcal{X}_{\\text{nolabel}}\\cup\\mathcal{X}_{\\text{train}}$ to train a model (a subset of $\\mathcal{X}_{\\text{nolabel}}$ is also fine). Evaluate it and report the accuracies. You should be careful in the choice of your method, in order to avoid heavy computational effort."
   ]
  },
  {
   "cell_type": "markdown",
   "metadata": {
    "id": "xk1FF9bqjGKq"
   },
   "source": [
    "We implement the [FixMatch](https://arxiv.org/abs/2001.07685) regularization scheme. To the usual classification loss for the labeled data, we add a regularization term :\n",
    "- the network is trained as usual on the labeled data\n",
    "- the unlabeled images undergo both a *weak* augmentation (simple geometric transformations) and a *strong* augmentation (transformations which distort the images more, here we use `RandAugment` with a large magnitude)\n",
    "- pseudo-labels are generated from the predictions on the weakly transformed images. We only keep those for which the confidence is over a chosen threshold\n",
    "- predictions are generated using the network on the strongly transformed images\n",
    "- the regularization loss is the cross entropy loss between the predictions and the pseudo-targets\n",
    "\n",
    "This approach enforces that the network is robust to strong transformations of the images, which is intended to help generalization."
   ]
  },
  {
   "cell_type": "markdown",
   "metadata": {},
   "source": [
    "**DISCLAIMER** We obtain an accuracy of 25% with and without using FixMatch. We did not manage to improve the generalisation using the unlabeled data."
   ]
  },
  {
   "cell_type": "code",
   "execution_count": 46,
   "metadata": {},
   "outputs": [],
   "source": [
    "transform_val = T.Compose([\n",
    "        T.ToTensor(),\n",
    "        T.Normalize([0.485, 0.456, 0.406], [0.229, 0.224, 0.225]),\n",
    "])"
   ]
  },
  {
   "cell_type": "code",
   "execution_count": 47,
   "metadata": {},
   "outputs": [],
   "source": [
    "transform_labeled = T.Compose([\n",
    "        T.RandomHorizontalFlip(),\n",
    "        T.RandomCrop(size=32,padding=4),\n",
    "        T.ToTensor(),\n",
    "        T.Normalize([0.485, 0.456, 0.406], [0.229, 0.224, 0.225]),\n",
    "])"
   ]
  },
  {
   "cell_type": "code",
   "execution_count": 48,
   "metadata": {},
   "outputs": [],
   "source": [
    "class TransformFixMatch(object):\n",
    "    def __init__(self, magnitude):\n",
    "        self.weak = transform_labeled\n",
    "        self.strong = T.Compose([\n",
    "            T.RandomHorizontalFlip(),\n",
    "            T.RandomCrop(size=32, padding=4),\n",
    "            T.RandAugment(num_ops=2, magnitude=magnitude),\n",
    "            T.ToTensor(),\n",
    "            T.Normalize([0.485, 0.456, 0.406], [0.229, 0.224, 0.225])])\n",
    "        \n",
    "    def __call__(self, x):\n",
    "        weak = self.weak(x)\n",
    "        strong = self.strong(x)\n",
    "        return weak, strong"
   ]
  },
  {
   "cell_type": "code",
   "execution_count": 50,
   "metadata": {},
   "outputs": [
    {
     "name": "stdout",
     "output_type": "stream",
     "text": [
      "Files already downloaded and verified\n",
      "Files already downloaded and verified\n"
     ]
    }
   ],
   "source": [
    "X_train = TinyCIFAR(root=\"../data\", download=True, transform=transform_labeled)\n",
    "\n",
    "X_test = V.datasets.cifar.CIFAR10(root=\"../data\", train=False, download=True, transform=transform_val)\n",
    "X_test_small = torch.utils.data.Subset(X_test, np.random.randint(len(X_test), size=1000))"
   ]
  },
  {
   "cell_type": "code",
   "execution_count": 52,
   "metadata": {},
   "outputs": [
    {
     "name": "stdout",
     "output_type": "stream",
     "text": [
      "Files already downloaded and verified\n"
     ]
    }
   ],
   "source": [
    "X_nolabel = data.CIFARnoLabel(root=\"../data\", download=True, transform=TransformFixMatch(magnitude=10))"
   ]
  },
  {
   "cell_type": "code",
   "execution_count": 63,
   "metadata": {},
   "outputs": [],
   "source": [
    "def train_WS(\n",
    "    net,\n",
    "    train_set,\n",
    "    num_epochs=20,\n",
    "    batch_size=30,\n",
    "    lr=1e-3,\n",
    "    schedule=False,\n",
    "    parameters=None,\n",
    "    test_set=None,\n",
    "    threshold=0.7,\n",
    "    lambda_loss=1.0,\n",
    "    unlab_factor=5,\n",
    "):\n",
    "    labeled_trainloader = DataLoader(\n",
    "    X_train,\n",
    "    shuffle=True,\n",
    "    batch_size=batch_size,\n",
    "    drop_last=False)\n",
    "\n",
    "    unlabeled_trainloader = DataLoader(\n",
    "        X_nolabel,\n",
    "        shuffle=True,\n",
    "        batch_size=batch_size*unlab_factor,\n",
    "        drop_last=True)\n",
    "\n",
    "    criterion = nn.CrossEntropyLoss()\n",
    "    if parameters is None:\n",
    "        parameters = list(net.parameters())\n",
    "\n",
    "    for param in net.parameters():\n",
    "        param.requires_grad = False\n",
    "    for param in parameters:\n",
    "        param.requires_grad = True\n",
    "\n",
    "    optimizer = optim.SGD(parameters, lr=lr, momentum=0.9, weight_decay= 0.0005,nesterov=True)\n",
    "\n",
    "    if schedule:\n",
    "        T_max = num_epochs * (len(labeled_trainloader)//batch_size + 1)\n",
    "        scheduler = torch.optim.lr_scheduler.CosineAnnealingLR(optimizer, T_max)\n",
    "\n",
    "    logging_frequency = 1 + (num_epochs - 1) // 10\n",
    "    loss_hist = []\n",
    "    for epoch in tqdm.tqdm(range(num_epochs)):\n",
    "        net.train()\n",
    "\n",
    "        sum_loss = 0.0\n",
    "        correct = 0\n",
    "\n",
    "        correct_u = 0\n",
    "        tries_u = 0\n",
    "\n",
    "        dataloader_iterator = iter(unlabeled_trainloader)\n",
    "\n",
    "        for X, y in labeled_trainloader:\n",
    "            X = X.to(device)\n",
    "            y = y .to(device)\n",
    "\n",
    "            optimizer.zero_grad()\n",
    "            y_pred = net(X)\n",
    "            loss_label = criterion(y_pred, y)\n",
    "\n",
    "\n",
    "            sum_loss += loss_label.item()\n",
    "            _, arg_pred = y_pred.max(1)\n",
    "            correct += arg_pred.eq(y).sum().item()\n",
    "\n",
    "            loss_nolabel = 0\n",
    "            if epoch >= 5:\n",
    "                try:\n",
    "                    X_w, X_s = next(dataloader_iterator)\n",
    "                except StopIteration:\n",
    "                    dataloader_iterator = iter(unlabeled_trainloader)\n",
    "                    X_w, X_s = next(dataloader_iterator)\n",
    "\n",
    "                optimizer.zero_grad()\n",
    "\n",
    "                X_w = X_w.to(device)\n",
    "                X_s = X_s.to(device)\n",
    "\n",
    "                ## generate the pseudo labels and select those above the threshold\n",
    "                y_pred_w = net(X_w)\n",
    "\n",
    "                pseudo_label = torch.softmax(y_pred_w.detach(), dim=-1)\n",
    "                max_probs, targets_u = torch.max(pseudo_label.detach(), dim=-1)\n",
    "                mask = max_probs.ge(threshold)\n",
    "\n",
    "                if mask.sum() > 1:\n",
    "                    ## predict on the strong dataset\n",
    "                    y_pred_s = net(X_s[mask])\n",
    "\n",
    "                    ## compute the regularization loss\n",
    "                    loss_nolabel = (criterion(y_pred_s, targets_u[mask])).sum() / X_w.shape[0]\n",
    "\n",
    "                    _, cat_pred_s = torch.max(y_pred_s.detach(), dim=-1)\n",
    "                    correct_u += cat_pred_s.eq(targets_u[mask]).sum().item()\n",
    "                    tries_u += mask.sum()\n",
    "\n",
    "            loss = loss_label + lambda_loss * loss_nolabel\n",
    "            loss.backward()\n",
    "            optimizer.step()\n",
    "\n",
    "    if schedule:\n",
    "        scheduler.step()\n",
    "    avg_loss = sum_loss / len(labeled_trainloader)\n",
    "    accuracy = correct / len(train_set)\n",
    "\n",
    "    loss_hist.append(avg_loss)\n",
    "    if test_set is not None:\n",
    "        if schedule:\n",
    "            (lr,) = scheduler.get_last_lr()\n",
    "        if epoch == num_epochs - 1 or epoch % logging_frequency == 0:\n",
    "            test_loss, test_accuracy = test(net, test_set, batch_size, progress=False)\n",
    "\n",
    "            rprint(\n",
    "              epoch_repr(\n",
    "                  epoch + 1,\n",
    "                  num_epochs,\n",
    "                  avg_loss,\n",
    "                  accuracy,\n",
    "                  lr,\n",
    "                  test_loss,\n",
    "                  test_accuracy,\n",
    "              )\n",
    "            )\n",
    "            rprint(f\"Unlabeled consistency: {correct_u}/{tries_u}\")\n",
    "\n",
    "    return loss_hist"
   ]
  },
  {
   "cell_type": "code",
   "execution_count": 64,
   "metadata": {},
   "outputs": [],
   "source": [
    "resnet18_fixmatch = V.models.resnet18(pretrained=False)\n",
    "\n",
    "num_ftrs = resnet18_fixmatch.fc.in_features\n",
    "resnet18_fixmatch.fc = nn.Linear(num_ftrs, 10)\n",
    "resnet18_fixmatch = resnet18_fixmatch.to(device)"
   ]
  },
  {
   "cell_type": "code",
   "execution_count": null,
   "metadata": {},
   "outputs": [],
   "source": [
    "loss_hist = train_WS(\n",
    "        resnet18_fixmatch,\n",
    "        X_train,\n",
    "        batch_size=10,\n",
    "        lr=0.005,\n",
    "        num_epochs=200,\n",
    "        parameters = None,\n",
    "        schedule=True,\n",
    "        test_set = X_test_small,\n",
    "        threshold = 0.90,\n",
    "        lambda_loss = 1.0,\n",
    "        unlab_factor = 30,\n",
    ")\n",
    "plt.plot(loss_hist)\n",
    "plt.show()"
   ]
  },
  {
   "cell_type": "code",
   "execution_count": null,
   "metadata": {},
   "outputs": [],
   "source": [
    "test_loss, test_accuracy = test(resnet18_fixmatch, X_test, batch_size=30)\n",
    "print(f\"Test loss {test_loss:04.2f} | Accuracy : {100 * test_accuracy:04.1f}%\")"
   ]
  },
  {
   "cell_type": "markdown",
   "metadata": {},
   "source": [
    "Testing without the regularization (`lambda_loss = 0.`):"
   ]
  },
  {
   "cell_type": "code",
   "execution_count": null,
   "metadata": {},
   "outputs": [],
   "source": [
    "resnet18_fixmatch = V.models.resnet18(pretrained=False)\n",
    "\n",
    "num_ftrs = resnet18_fixmatch.fc.in_features\n",
    "resnet18_fixmatch.fc = nn.Linear(num_ftrs, 10)\n",
    "resnet18_fixmatch = resnet18_fixmatch.to(device)"
   ]
  },
  {
   "cell_type": "code",
   "execution_count": null,
   "metadata": {},
   "outputs": [],
   "source": [
    "loss_hist = train_WS(\n",
    "        resnet18_fixmatch,\n",
    "        X_train,\n",
    "        batch_size=10,\n",
    "        lr=0.005,\n",
    "        num_epochs=200,\n",
    "        parameters = None,\n",
    "        schedule=True,\n",
    "        test_set = X_test_small,\n",
    "        threshold = 0.90,\n",
    "        lambda_loss = 0.0,\n",
    "        unlab_factor = 30,\n",
    ")\n",
    "plt.plot(loss_hist)\n",
    "plt.show()"
   ]
  },
  {
   "cell_type": "code",
   "execution_count": null,
   "metadata": {},
   "outputs": [],
   "source": [
    "test_loss, test_accuracy = test(resnet18_fixmatch, X_test, batch_size=30)\n",
    "print(f\"Test loss {test_loss:04.2f} | Accuracy : {100 * test_accuracy:04.1f}%\")"
   ]
  },
  {
   "cell_type": "markdown",
   "metadata": {},
   "source": [
    "We obtain an accuracy of 25% with and without using FixMatch. We did not manage to improve the generalisation using the unlabeled data."
   ]
  }
 ],
 "metadata": {
  "colab": {
   "collapsed_sections": [],
   "name": "TP4_transfer.ipynb",
   "provenance": []
  },
  "jupytext": {
   "formats": "ipynb,md:myst"
  },
  "kernelspec": {
   "display_name": "dlip",
   "language": "python",
   "name": "dlip"
  },
  "language_info": {
   "codemirror_mode": {
    "name": "ipython",
    "version": 3
   },
   "file_extension": ".py",
   "mimetype": "text/x-python",
   "name": "python",
   "nbconvert_exporter": "python",
   "pygments_lexer": "ipython3",
   "version": "3.9.10"
  }
 },
 "nbformat": 4,
 "nbformat_minor": 4
}
